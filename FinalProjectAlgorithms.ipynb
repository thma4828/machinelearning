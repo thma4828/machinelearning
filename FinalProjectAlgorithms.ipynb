{
 "cells": [
  {
   "cell_type": "code",
   "execution_count": 28,
   "metadata": {},
   "outputs": [],
   "source": [
    "import matplotlib.pyplot as plt\n",
    "import numpy as np\n",
    "from scipy.spatial import distance"
   ]
  },
  {
   "cell_type": "code",
   "execution_count": 54,
   "metadata": {},
   "outputs": [
    {
     "name": "stdout",
     "output_type": "stream",
     "text": [
      "0.2\n",
      "0.4\n",
      "0.3\n",
      "0.2\n",
      "0.7\n",
      "0.1\n",
      "0.5\n",
      "0.4\n",
      "0.6\n",
      "0.3\n",
      "0.5\n",
      "0.4\n",
      "0.1\n",
      "0.6\n",
      "0.3\n",
      "0.4\n",
      "0.5\n",
      "0.6\n",
      "0.6\n",
      "0.4\n",
      "line 24\n",
      "[[1. 1. 1. 1. 0. 1. 1. 1. 1. 0.]]\n"
     ]
    },
    {
     "ename": "ValueError",
     "evalue": "The truth value of an array with more than one element is ambiguous. Use a.any() or a.all()",
     "output_type": "error",
     "traceback": [
      "\u001b[1;31m---------------------------------------------------------------------------\u001b[0m",
      "\u001b[1;31mValueError\u001b[0m                                Traceback (most recent call last)",
      "\u001b[1;32m<ipython-input-54-72023a152f81>\u001b[0m in \u001b[0;36m<module>\u001b[1;34m\u001b[0m\n\u001b[0;32m     49\u001b[0m \u001b[0mchoice\u001b[0m \u001b[1;33m=\u001b[0m \u001b[1;33m[\u001b[0m\u001b[1;36m0.0\u001b[0m\u001b[1;33m,\u001b[0m \u001b[1;36m1.0\u001b[0m\u001b[1;33m]\u001b[0m\u001b[1;33m\u001b[0m\u001b[1;33m\u001b[0m\u001b[0m\n\u001b[0;32m     50\u001b[0m \u001b[0ms\u001b[0m \u001b[1;33m=\u001b[0m \u001b[0mnp\u001b[0m\u001b[1;33m.\u001b[0m\u001b[0mmatrix\u001b[0m\u001b[1;33m(\u001b[0m\u001b[0mnp\u001b[0m\u001b[1;33m.\u001b[0m\u001b[0mrandom\u001b[0m\u001b[1;33m.\u001b[0m\u001b[0mchoice\u001b[0m\u001b[1;33m(\u001b[0m\u001b[0mchoice\u001b[0m\u001b[1;33m,\u001b[0m \u001b[0mreplace\u001b[0m\u001b[1;33m=\u001b[0m\u001b[1;32mTrue\u001b[0m\u001b[1;33m,\u001b[0m \u001b[0msize\u001b[0m\u001b[1;33m=\u001b[0m\u001b[0mn\u001b[0m\u001b[1;33m*\u001b[0m\u001b[0mk\u001b[0m\u001b[1;33m)\u001b[0m\u001b[1;33m.\u001b[0m\u001b[0mreshape\u001b[0m\u001b[1;33m(\u001b[0m\u001b[1;33m(\u001b[0m\u001b[0mn\u001b[0m\u001b[1;33m,\u001b[0m \u001b[0mk\u001b[0m\u001b[1;33m)\u001b[0m\u001b[1;33m)\u001b[0m\u001b[1;33m)\u001b[0m\u001b[1;33m\u001b[0m\u001b[1;33m\u001b[0m\u001b[0m\n\u001b[1;32m---> 51\u001b[1;33m \u001b[0my\u001b[0m\u001b[1;33m,\u001b[0m \u001b[0mi\u001b[0m \u001b[1;33m=\u001b[0m \u001b[0mtree_search\u001b[0m\u001b[1;33m(\u001b[0m\u001b[0ms\u001b[0m\u001b[1;33m,\u001b[0m \u001b[0mn\u001b[0m\u001b[1;33m,\u001b[0m \u001b[0mk\u001b[0m\u001b[1;33m,\u001b[0m \u001b[1;36m0.7\u001b[0m\u001b[1;33m,\u001b[0m \u001b[1;36m100\u001b[0m\u001b[1;33m)\u001b[0m\u001b[1;33m\u001b[0m\u001b[1;33m\u001b[0m\u001b[0m\n\u001b[0m\u001b[0;32m     52\u001b[0m \u001b[0mprint\u001b[0m\u001b[1;33m(\u001b[0m\u001b[0my\u001b[0m\u001b[1;33m)\u001b[0m\u001b[1;33m\u001b[0m\u001b[1;33m\u001b[0m\u001b[0m\n\u001b[0;32m     53\u001b[0m \u001b[0mprint\u001b[0m\u001b[1;33m(\u001b[0m\u001b[0mi\u001b[0m\u001b[1;33m)\u001b[0m\u001b[1;33m\u001b[0m\u001b[1;33m\u001b[0m\u001b[0m\n",
      "\u001b[1;32m<ipython-input-54-72023a152f81>\u001b[0m in \u001b[0;36mtree_search\u001b[1;34m(S, n, k, r, m)\u001b[0m\n\u001b[0;32m     32\u001b[0m                 \u001b[1;32mfor\u001b[0m \u001b[0mbit\u001b[0m \u001b[1;32min\u001b[0m \u001b[0mxi\u001b[0m\u001b[1;33m[\u001b[0m\u001b[1;36m0\u001b[0m\u001b[1;33m]\u001b[0m\u001b[1;33m:\u001b[0m\u001b[1;33m\u001b[0m\u001b[1;33m\u001b[0m\u001b[0m\n\u001b[0;32m     33\u001b[0m                     \u001b[0mprint\u001b[0m\u001b[1;33m(\u001b[0m\u001b[0mbit\u001b[0m\u001b[1;33m)\u001b[0m\u001b[1;33m\u001b[0m\u001b[1;33m\u001b[0m\u001b[0m\n\u001b[1;32m---> 34\u001b[1;33m                     \u001b[1;32mif\u001b[0m \u001b[0mbit\u001b[0m \u001b[1;33m!=\u001b[0m \u001b[0my_\u001b[0m\u001b[1;33m[\u001b[0m\u001b[0mj\u001b[0m\u001b[1;33m]\u001b[0m\u001b[1;33m:\u001b[0m\u001b[1;33m\u001b[0m\u001b[1;33m\u001b[0m\u001b[0m\n\u001b[0m\u001b[0;32m     35\u001b[0m                         \u001b[0myflipbits\u001b[0m\u001b[1;33m.\u001b[0m\u001b[0mappend\u001b[0m\u001b[1;33m(\u001b[0m\u001b[0mj\u001b[0m\u001b[1;33m)\u001b[0m\u001b[1;33m\u001b[0m\u001b[1;33m\u001b[0m\u001b[0m\n\u001b[0;32m     36\u001b[0m                     \u001b[0mj\u001b[0m \u001b[1;33m+=\u001b[0m \u001b[1;36m1\u001b[0m\u001b[1;33m\u001b[0m\u001b[1;33m\u001b[0m\u001b[0m\n",
      "\u001b[1;31mValueError\u001b[0m: The truth value of an array with more than one element is ambiguous. Use a.any() or a.all()"
     ]
    }
   ],
   "source": [
    "def majority_bits(S):\n",
    "    return np.rint(S.mean(0))\n",
    "\n",
    "#we should have an odd number of bitstrings... this can be fixed by always adding a copy of 1 of them....\n",
    "def tree_search(S, n, k, r, m): #takes in nxk array of bitstrings S, parameter r. \n",
    "    y_ = majority_bits(S) #start searching at a bitstring that takes majority votes from all the strings available. \n",
    "    rcenter = False #while we havent found a r-hamming center on S\n",
    "    iters = 0\n",
    "    while rcenter == False and iters < m:\n",
    "        iters += 1\n",
    "        rcenter = True\n",
    "        d_vec = []\n",
    "        d_sum = 0\n",
    "        ind_vec = []\n",
    "        for i, x in enumerate(S): #for each row of S, a bitstring x. \n",
    "            d = distance.hamming(y_, x) #get the hamming distance between the row and our current y_ = H(y, x)\n",
    "            print(d)\n",
    "            if int(d) < r: #if there exists some row that has a hamming distance H(y_, x)\n",
    "                rcenter = False #then reset the found r-center to false\n",
    "                ind_vec.append(i) #append the indicies of the bitstring that is too far away from our current center\n",
    "            d_vec.append(d) #keep track of all distances. \n",
    "        d_sum = np.sum(np.array(d_sum)) #keep track of sum of distances. \n",
    "        if rcenter == False:\n",
    "            print(\"line 24\")\n",
    "            row_inds = np.random.choice(ind_vec, size=max([int(len(ind_vec) / 2), 1]), replace=False) #select some random\n",
    "            #rows such that they had a hamming distance too far from our current center y_. \n",
    "            for rind in row_inds:\n",
    "                xi = S[rind] #such an x such that H(x, y_) > r\n",
    "                #now select indices of bits to flip of y_ to make it closer to xi. \n",
    "                yflipbits = []\n",
    "                j = 0\n",
    "                for bit in xi:\n",
    "                    print(bit)\n",
    "                    if bit != y_[j]:\n",
    "                        yflipbits.append(j)\n",
    "                    j += 1\n",
    "                jstoflip = np.ranomd.choice(yflipbits, size=max([int(len(yflipbits) / 2), 1]), replace=False)\n",
    "                for j_ in jstoflip:\n",
    "                    if y_[j_] == 1.0:\n",
    "                        y_[j_] = 0.0\n",
    "                    elif y_[j_] == 0.0: \n",
    "                        y_[j_] - 1.0\n",
    "                    else:\n",
    "                        print(\"error: 100\")   \n",
    "    return y_, iters\n",
    "\n",
    "n = 20\n",
    "k = 10\n",
    "choice = [0.0, 1.0]\n",
    "s = np.matrix(np.random.choice(choice, replace=True, size=n*k).reshape((n, k)))\n",
    "y, i = tree_search(s, n, k, 0.7, 100)\n",
    "print(y)\n",
    "print(i)"
   ]
  },
  {
   "cell_type": "code",
   "execution_count": null,
   "metadata": {},
   "outputs": [],
   "source": []
  },
  {
   "cell_type": "code",
   "execution_count": null,
   "metadata": {},
   "outputs": [],
   "source": []
  }
 ],
 "metadata": {
  "kernelspec": {
   "display_name": "Python 3",
   "language": "python",
   "name": "python3"
  },
  "language_info": {
   "codemirror_mode": {
    "name": "ipython",
    "version": 3
   },
   "file_extension": ".py",
   "mimetype": "text/x-python",
   "name": "python",
   "nbconvert_exporter": "python",
   "pygments_lexer": "ipython3",
   "version": "3.6.9"
  }
 },
 "nbformat": 4,
 "nbformat_minor": 2
}
