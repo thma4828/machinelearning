{
 "cells": [
  {
   "cell_type": "markdown",
   "metadata": {},
   "source": [
    "# Task 1: we will train a machine learning model to be able to classify pieces of text in a set of documents into different categories like warnings, ingredients, description, legal info, etc. \n",
    "- step 1: figure out how to feauturize pieces of text in vector space.\n",
    "    - first lets use a premade dataset of natural language data to figure some things out. \n",
    "    - gensim will allow us to encode words as vectors and documents as vectors (lists of words as vectors). "
   ]
  },
  {
   "cell_type": "code",
   "execution_count": 1,
   "metadata": {},
   "outputs": [],
   "source": [
    "import numpy as np\n",
    "import pandas as pd"
   ]
  },
  {
   "cell_type": "code",
   "execution_count": 2,
   "metadata": {},
   "outputs": [
    {
     "name": "stdout",
     "output_type": "stream",
     "text": [
      "25000 25000\n"
     ]
    }
   ],
   "source": [
    "df = pd.read_csv('movie_data.csv')\n",
    "df.head()\n",
    "\n",
    "pos = df[df.sentiment == 1].shape[0]\n",
    "neg = df[df.sentiment == 0].shape[0]\n",
    "\n",
    "print(pos, neg)"
   ]
  },
  {
   "cell_type": "code",
   "execution_count": 3,
   "metadata": {},
   "outputs": [],
   "source": [
    "import gensim #gensim will be used for document / word embedding. "
   ]
  },
  {
   "cell_type": "code",
   "execution_count": 4,
   "metadata": {},
   "outputs": [],
   "source": [
    "from gensim.models import Word2Vec\n",
    "import nltk\n",
    "from nltk.tokenize import sent_tokenize, word_tokenize \n",
    "from gensim.models.doc2vec import Doc2Vec"
   ]
  },
  {
   "cell_type": "code",
   "execution_count": 5,
   "metadata": {},
   "outputs": [],
   "source": [
    "def trim_s(s):\n",
    "    s = s.lower()\n",
    "    s = s.replace('\\n', ' ')\n",
    "    s = s.replace('<br />', ' ')\n",
    "    s = s.replace(',', ' ')\n",
    "    s = s.replace('.', ' ')\n",
    "    s = s.replace('-', ' ')\n",
    "    s = s.replace('(', ' ')\n",
    "    s = s.replace(')', ' ')\n",
    "    s = s.replace(\"'\", ' ')\n",
    "    s = s.replace(\"''\",  ' ')\n",
    "    s = s.replace(' in ', ' ')\n",
    "    s = s.replace(' on ', ' ')\n",
    "    s = s.replace(' a ', ' ')\n",
    "    s = s.replace(' an ', ' ')\n",
    "    s = s.replace(' the ', ' ')\n",
    "    s = s.replace(' in ', ' ')\n",
    "    s = s.replace(' about ', ' ')\n",
    "    s = s.replace(' in ', ' ')\n",
    "    s = s.replace(' by ', ' ')\n",
    "    s = s.replace(' is ', ' ')\n",
    "    s = s.replace(' was ', ' ')\n",
    "    return s"
   ]
  },
  {
   "cell_type": "code",
   "execution_count": 6,
   "metadata": {},
   "outputs": [],
   "source": [
    "#some of this code modified from https://www.geeksforgeeks.org/python-word-embedding-using-word2vec/\n",
    "sample = df['review']\n",
    "sample_data = []\n",
    "#ind = 0\n",
    "n = df['review'].values.size\n",
    "for s in  df['review'].values:\n",
    "    #print(ind / n)\n",
    "    #ind += 1\n",
    "    s = trim_s(s)\n",
    "    for i in sent_tokenize(s):\n",
    "        temp = []\n",
    "        for j in word_tokenize(i):\n",
    "            temp.append(j.lower())\n",
    "        sample_data.append(temp)\n"
   ]
  },
  {
   "cell_type": "code",
   "execution_count": 7,
   "metadata": {},
   "outputs": [],
   "source": [
    "from gensim.models.doc2vec import TaggedDocument\n",
    "from gensim.test.utils import get_tmpfile"
   ]
  },
  {
   "cell_type": "code",
   "execution_count": 36,
   "metadata": {},
   "outputs": [],
   "source": [
    "docs = [TaggedDocument(doc, [i]) for i, doc in enumerate(sample_data)]\n",
    "#dm = 1 preserves order of text in the document\n",
    "doc_model = Doc2Vec(docs, vector_size=100, window=4, min_count=1, workers=10, dm=1)"
   ]
  },
  {
   "cell_type": "code",
   "execution_count": 9,
   "metadata": {},
   "outputs": [],
   "source": [
    "import tensorflow as tf\n",
    "import numpy as np"
   ]
  },
  {
   "cell_type": "code",
   "execution_count": 10,
   "metadata": {},
   "outputs": [
    {
     "name": "stderr",
     "output_type": "stream",
     "text": [
      "Using TensorFlow backend.\n"
     ]
    }
   ],
   "source": [
    "from tensorflow import keras\n",
    "import matplotlib.pyplot as plt\n",
    "from keras.optimizers import Adam\n",
    "from keras.layers import Input, Dense, Activation, Dropout\n",
    "from keras.models import Sequential\n",
    "from keras.models import Model"
   ]
  },
  {
   "cell_type": "code",
   "execution_count": 37,
   "metadata": {},
   "outputs": [],
   "source": [
    "train_len = int(3*n/4)\n",
    "test_len = int(n/4)\n",
    "#valid_len = int(n/4)\n",
    "\n",
    "X_train, y_train = df['review'].values[0:train_len], df['sentiment'].values[0:train_len]\n",
    "X_test, y_test = df['review'].values[train_len:train_len + test_len], df['sentiment'].values[train_len:train_len + test_len]\n",
    "#X_valid, y_valid = df['review'].values[train_len + test_len : train_len + test_len + valid_len], df['sentiment'].values[train_len + test_len : train_len + test_len + valid_len]\n",
    "for i in range(len(X_train)):\n",
    "    X_train[i] = trim_s(X_train[i])\n",
    "for j in range(len(X_test)):\n",
    "    X_test[j] = trim_s(X_test[j])\n",
    "\n",
    "TrainingSet = []\n",
    "for xi in X_train:\n",
    "    vec = doc_model.infer_vector(str(xi).split())\n",
    "    TrainingSet.append(vec)\n",
    "TestingSet = []\n",
    "for xi in X_test:\n",
    "    vec1 = doc_model.infer_vector(str(xi).split())\n",
    "    TestingSet.append(vec1)"
   ]
  },
  {
   "cell_type": "code",
   "execution_count": 38,
   "metadata": {},
   "outputs": [
    {
     "name": "stderr",
     "output_type": "stream",
     "text": [
      "C:\\Users\\tsmar\\Anaconda3\\lib\\site-packages\\sklearn\\svm\\base.py:193: FutureWarning: The default value of gamma will change from 'auto' to 'scale' in version 0.22 to account better for unscaled features. Set gamma explicitly to 'auto' or 'scale' to avoid this warning.\n",
      "  \"avoid this warning.\", FutureWarning)\n"
     ]
    },
    {
     "name": "stdout",
     "output_type": "stream",
     "text": [
      "[LibSVM]"
     ]
    },
    {
     "data": {
      "text/plain": [
       "0.82048"
      ]
     },
     "execution_count": 38,
     "metadata": {},
     "output_type": "execute_result"
    }
   ],
   "source": [
    "#try standardizing with a MinMaxScaler, seems to lead to overfittting for some reason. \n",
    "from sklearn import preprocessing\n",
    "TrainingSet = np.array(TrainingSet)\n",
    "TestingSet = np.array(TestingSet)\n",
    "#mms = preprocessing.MinMaxScaler()\n",
    "#TrainingSet = mms.fit_transform(TrainingSet)\n",
    "#TestingSet = mms.transform(TestingSet)\n",
    "#standardizing with MaxAbsScaler doesn't do much damage but still doesn't really seem to help accuracy that much if at all. \n",
    "#mma = preprocessing.MaxAbsScaler()\n",
    "#TrainingSet = mma.fit_transform(TrainingSet)\n",
    "#TestingSet = mma.transform(TestingSet)\n",
    "from sklearn.svm import SVC\n",
    "clf = SVC(C=1.5, kernel='rbf', verbose=True)\n",
    "clf.fit(TrainingSet, y_train)\n",
    "yhats = clf.predict(TestingSet)\n",
    "\n",
    "from sklearn.metrics import accuracy_score\n",
    "accuracy_score(y_test, yhats)"
   ]
  },
  {
   "cell_type": "code",
   "execution_count": 13,
   "metadata": {},
   "outputs": [],
   "source": [
    "import keras\n",
    "import numpy as np\n",
    "import cv2\n",
    "from keras.layers import Conv2D\n",
    "from keras.layers import Dense\n",
    "from keras.layers import Flatten\n",
    "from keras.preprocessing import image\n",
    "from keras.layers import MaxPooling2D\n",
    "from keras.models import Sequential\n",
    "from keras.layers import Activation\n",
    "from keras.layers import Dropout"
   ]
  },
  {
   "cell_type": "code",
   "execution_count": 39,
   "metadata": {},
   "outputs": [
    {
     "name": "stderr",
     "output_type": "stream",
     "text": [
      "C:\\Users\\tsmar\\Anaconda3\\lib\\site-packages\\ipykernel_launcher.py:2: UserWarning: Update your `Dense` call to the Keras 2 API: `Dense(8, input_dim=100, activation=\"tanh\", kernel_initializer=\"uniform\")`\n",
      "  \n",
      "C:\\Users\\tsmar\\Anaconda3\\lib\\site-packages\\ipykernel_launcher.py:3: UserWarning: Update your `Dense` call to the Keras 2 API: `Dense(8, activation=\"tanh\", kernel_initializer=\"uniform\")`\n",
      "  This is separate from the ipykernel package so we can avoid doing imports until\n",
      "C:\\Users\\tsmar\\Anaconda3\\lib\\site-packages\\ipykernel_launcher.py:4: UserWarning: Update your `Dense` call to the Keras 2 API: `Dense(1, activation=\"sigmoid\", kernel_initializer=\"uniform\")`\n",
      "  after removing the cwd from sys.path.\n"
     ]
    }
   ],
   "source": [
    "model = Sequential()\n",
    "model.add(Dense(8, input_dim=100, activation='tanh', init='uniform'))\n",
    "model.add(Dense(8, activation='tanh', init='uniform'))\n",
    "model.add(Dense(1, activation='sigmoid', init='uniform'))"
   ]
  },
  {
   "cell_type": "code",
   "execution_count": 40,
   "metadata": {},
   "outputs": [],
   "source": [
    "model.compile(optimizer='adam',loss='binary_crossentropy',metrics=['accuracy'])"
   ]
  },
  {
   "cell_type": "code",
   "execution_count": 41,
   "metadata": {},
   "outputs": [
    {
     "name": "stdout",
     "output_type": "stream",
     "text": [
      "Epoch 1/10\n",
      "37500/37500 [==============================] - 2s 40us/step - loss: 0.4560 - acc: 0.8031\n",
      "Epoch 2/10\n",
      "37500/37500 [==============================] - 1s 31us/step - loss: 0.4135 - acc: 0.8202\n",
      "Epoch 3/10\n",
      "37500/37500 [==============================] - 1s 31us/step - loss: 0.4124 - acc: 0.8209\n",
      "Epoch 4/10\n",
      "37500/37500 [==============================] - 2s 44us/step - loss: 0.4123 - acc: 0.8213\n",
      "Epoch 5/10\n",
      "37500/37500 [==============================] - 1s 37us/step - loss: 0.4121 - acc: 0.8213\n",
      "Epoch 6/10\n",
      "37500/37500 [==============================] - 1s 31us/step - loss: 0.4119 - acc: 0.8199\n",
      "Epoch 7/10\n",
      "37500/37500 [==============================] - 1s 30us/step - loss: 0.4115 - acc: 0.8203\n",
      "Epoch 8/10\n",
      "37500/37500 [==============================] - 1s 30us/step - loss: 0.4103 - acc: 0.8216\n",
      "Epoch 9/10\n",
      "37500/37500 [==============================] - 1s 30us/step - loss: 0.4092 - acc: 0.8214\n",
      "Epoch 10/10\n",
      "37500/37500 [==============================] - 1s 30us/step - loss: 0.4077 - acc: 0.8210\n",
      "12500/12500 [==============================] - 0s 20us/step\n",
      "\n",
      "acc: 81.60%\n"
     ]
    }
   ],
   "source": [
    "model.fit(TrainingSet, y_train, epochs=10, verbose=1)\n",
    "scores = model.evaluate(TestingSet, y_test)\n",
    "print(\"\\n%s: %.2f%%\" % (model.metrics_names[1], scores[1]*100))"
   ]
  },
  {
   "cell_type": "markdown",
   "metadata": {},
   "source": [
    "# Results:\n",
    "- SVM and NN get about 81%\n",
    "- Naive Bayes and NN get 70-72%\n",
    "- when PCA is used only a few percent accuracy is lost for much faster calculation, PCA embedded data is actualy better for naive bayes"
   ]
  },
  {
   "cell_type": "code",
   "execution_count": 17,
   "metadata": {},
   "outputs": [],
   "source": [
    "import sklearn.decomposition\n",
    "pca = sklearn.decomposition.PCA(n_components=10)\n",
    "pca.fit(TrainingSet)\n",
    "pTrain = pca.transform(TrainingSet)\n",
    "pTrain[0]\n",
    "\n",
    "pTest = pca.transform(TestingSet)"
   ]
  },
  {
   "cell_type": "code",
   "execution_count": 18,
   "metadata": {},
   "outputs": [
    {
     "name": "stdout",
     "output_type": "stream",
     "text": [
      "0.6932\n"
     ]
    }
   ],
   "source": [
    "from sklearn.naive_bayes import GaussianNB\n",
    "gauss_naive_bayes = GaussianNB([0.5, 0.5])\n",
    "gauss_naive_bayes.fit(pTrain, y_train)\n",
    "y_pred = gauss_naive_bayes.predict(pTest)\n",
    "\n",
    "r_pca = accuracy_score(y_test, y_pred)\n",
    "print(r_pca)"
   ]
  },
  {
   "cell_type": "code",
   "execution_count": 19,
   "metadata": {},
   "outputs": [
    {
     "data": {
      "text/plain": [
       "0.72984"
      ]
     },
     "execution_count": 19,
     "metadata": {},
     "output_type": "execute_result"
    }
   ],
   "source": [
    "from sklearn.neighbors import KNeighborsClassifier\n",
    "clf_nn = KNeighborsClassifier(n_neighbors=3, weights='distance', algorithm='ball_tree')\n",
    "clf_nn.fit(pTrain, y_train)\n",
    "yh = clf_nn.predict(pTest)\n",
    "\n",
    "accuracy_score(y_test, yh)"
   ]
  },
  {
   "cell_type": "code",
   "execution_count": 27,
   "metadata": {},
   "outputs": [
    {
     "name": "stderr",
     "output_type": "stream",
     "text": [
      "C:\\Users\\tsmar\\Anaconda3\\lib\\site-packages\\ipykernel_launcher.py:2: UserWarning: Update your `Dense` call to the Keras 2 API: `Dense(8, input_dim=10, activation=\"tanh\", kernel_initializer=\"uniform\")`\n",
      "  \n",
      "C:\\Users\\tsmar\\Anaconda3\\lib\\site-packages\\ipykernel_launcher.py:3: UserWarning: Update your `Dense` call to the Keras 2 API: `Dense(8, activation=\"tanh\", kernel_initializer=\"uniform\")`\n",
      "  This is separate from the ipykernel package so we can avoid doing imports until\n",
      "C:\\Users\\tsmar\\Anaconda3\\lib\\site-packages\\ipykernel_launcher.py:4: UserWarning: Update your `Dense` call to the Keras 2 API: `Dense(1, activation=\"sigmoid\", kernel_initializer=\"uniform\")`\n",
      "  after removing the cwd from sys.path.\n"
     ]
    },
    {
     "name": "stdout",
     "output_type": "stream",
     "text": [
      "Epoch 1/20\n",
      "37500/37500 [==============================] - 3s 68us/step - loss: 0.5062 - acc: 0.7726\n",
      "Epoch 2/20\n",
      "37500/37500 [==============================] - 1s 36us/step - loss: 0.4763 - acc: 0.7833\n",
      "Epoch 3/20\n",
      "37500/37500 [==============================] - 1s 35us/step - loss: 0.4760 - acc: 0.7835\n",
      "Epoch 4/20\n",
      "37500/37500 [==============================] - 1s 36us/step - loss: 0.4759 - acc: 0.7837\n",
      "Epoch 5/20\n",
      "37500/37500 [==============================] - 2s 40us/step - loss: 0.4760 - acc: 0.7818\n",
      "Epoch 6/20\n",
      "37500/37500 [==============================] - 1s 38us/step - loss: 0.4759 - acc: 0.7827\n",
      "Epoch 7/20\n",
      "37500/37500 [==============================] - 2s 47us/step - loss: 0.4758 - acc: 0.7828\n",
      "Epoch 8/20\n",
      "37500/37500 [==============================] - 2s 42us/step - loss: 0.4756 - acc: 0.7831\n",
      "Epoch 9/20\n",
      "37500/37500 [==============================] - 2s 41us/step - loss: 0.4758 - acc: 0.7842\n",
      "Epoch 10/20\n",
      "37500/37500 [==============================] - 1s 36us/step - loss: 0.4758 - acc: 0.7837\n",
      "Epoch 11/20\n",
      "37500/37500 [==============================] - 1s 36us/step - loss: 0.4758 - acc: 0.7839\n",
      "Epoch 12/20\n",
      "37500/37500 [==============================] - 1s 37us/step - loss: 0.4757 - acc: 0.7835\n",
      "Epoch 13/20\n",
      "37500/37500 [==============================] - 2s 43us/step - loss: 0.4757 - acc: 0.7837\n",
      "Epoch 14/20\n",
      "37500/37500 [==============================] - 1s 36us/step - loss: 0.4755 - acc: 0.7829\n",
      "Epoch 15/20\n",
      "37500/37500 [==============================] - 2s 41us/step - loss: 0.4753 - acc: 0.7837\n",
      "Epoch 16/20\n",
      "37500/37500 [==============================] - 1s 39us/step - loss: 0.4753 - acc: 0.7839\n",
      "Epoch 17/20\n",
      "37500/37500 [==============================] - 2s 43us/step - loss: 0.4750 - acc: 0.7839\n",
      "Epoch 18/20\n",
      "37500/37500 [==============================] - 2s 51us/step - loss: 0.4746 - acc: 0.7837\n",
      "Epoch 19/20\n",
      "37500/37500 [==============================] - 2s 42us/step - loss: 0.4741 - acc: 0.7836\n",
      "Epoch 20/20\n",
      "37500/37500 [==============================] - 1s 37us/step - loss: 0.4730 - acc: 0.7832\n",
      "12500/12500 [==============================] - 0s 22us/step\n",
      "\n",
      "acc: 77.86%\n"
     ]
    }
   ],
   "source": [
    "model2 = Sequential()\n",
    "model2.add(Dense(8, input_dim=10, activation='tanh', init='uniform'))\n",
    "model2.add(Dense(8, activation='tanh', init='uniform'))\n",
    "model2.add(Dense(1, activation='sigmoid', init='uniform'))\n",
    "\n",
    "model2.compile(optimizer='adam',loss='binary_crossentropy',metrics=['accuracy'])\n",
    "\n",
    "model2.fit(pTrain, y_train, epochs=20)\n",
    "scores = model2.evaluate(pTest, y_test)\n",
    "print(\"\\n%s: %.2f%%\" % (model2.metrics_names[1], scores[1]*100))"
   ]
  },
  {
   "cell_type": "markdown",
   "metadata": {},
   "source": [
    "# Clustering"
   ]
  },
  {
   "cell_type": "code",
   "execution_count": 28,
   "metadata": {},
   "outputs": [],
   "source": [
    "from sklearn.cluster import KMeans"
   ]
  },
  {
   "cell_type": "code",
   "execution_count": 29,
   "metadata": {},
   "outputs": [],
   "source": [
    "kmeans = KMeans(n_clusters=2).fit(pTrain)"
   ]
  },
  {
   "cell_type": "code",
   "execution_count": 30,
   "metadata": {},
   "outputs": [
    {
     "data": {
      "text/plain": [
       "array([0, 0, 1, ..., 0, 0, 0])"
      ]
     },
     "execution_count": 30,
     "metadata": {},
     "output_type": "execute_result"
    }
   ],
   "source": [
    "kmeans.predict(pTest)"
   ]
  },
  {
   "cell_type": "code",
   "execution_count": 31,
   "metadata": {},
   "outputs": [
    {
     "data": {
      "text/plain": [
       "0.58256"
      ]
     },
     "execution_count": 31,
     "metadata": {},
     "output_type": "execute_result"
    }
   ],
   "source": [
    "accuracy_score(kmeans.predict(pTest), y_test)"
   ]
  },
  {
   "cell_type": "markdown",
   "metadata": {},
   "source": [
    "# Visualization"
   ]
  },
  {
   "cell_type": "code",
   "execution_count": 32,
   "metadata": {},
   "outputs": [
    {
     "data": {
      "image/png": "[encoded data removed]",
      "text/plain": [
       "<Figure size 432x288 with 1 Axes>"
      ]
     },
     "metadata": {
      "needs_background": "light"
     },
     "output_type": "display_data"
    }
   ],
   "source": [
    "import matplotlib.pyplot as plt\n",
    "\n",
    "pca2 = sklearn.decomposition.PCA(n_components=2)\n",
    "pca2.fit(TrainingSet)\n",
    "pTrain2 = pca2.transform(TrainingSet)\n",
    "pTest2 = pca2.transform(TestingSet)\n",
    "\n",
    "x1_pos = []\n",
    "x1_neg = []\n",
    "x2_pos = []\n",
    "x2_neg = []\n",
    "for i, point in enumerate(pTrain2):\n",
    "    if y_train[i] == 1:\n",
    "        x1_pos.append(point[0])\n",
    "        x2_pos.append(point[1])\n",
    "    else:\n",
    "        x1_neg.append(point[0])\n",
    "        x2_neg.append(point[1])\n",
    "\n",
    "\n",
    "plt.scatter(x1_pos, x2_pos, color='r')\n",
    "plt.scatter(x1_neg, x2_neg, color='g')\n",
    "plt.show()"
   ]
  },
  {
   "cell_type": "code",
   "execution_count": 33,
   "metadata": {},
   "outputs": [
    {
     "data": {
      "text/plain": [
       "<mpl_toolkits.mplot3d.art3d.Path3DCollection at 0x20b215624e0>"
      ]
     },
     "execution_count": 33,
     "metadata": {},
     "output_type": "execute_result"
    },
    {
     "data": {
      "image/png": "[encoded data removed]",
      "text/plain": [
       "<Figure size 432x288 with 1 Axes>"
      ]
     },
     "metadata": {
      "needs_background": "light"
     },
     "output_type": "display_data"
    }
   ],
   "source": [
    "from mpl_toolkits.mplot3d import Axes3D\n",
    "fig = plt.figure()\n",
    "ax = fig.add_subplot(111, projection='3d')\n",
    "\n",
    "\n",
    "pca3 = sklearn.decomposition.PCA(n_components=3)\n",
    "pca3.fit(TrainingSet)\n",
    "pTrain3 = pca3.transform(TrainingSet)\n",
    "pTest3 = pca3.transform(TestingSet)\n",
    "\n",
    "x1_pos = []\n",
    "x1_neg = []\n",
    "x2_pos = []\n",
    "x2_neg = []\n",
    "x3_pos = []\n",
    "x3_neg = []\n",
    "for i, point in enumerate(pTrain3):\n",
    "    if y_train[i] == 1:\n",
    "        x1_pos.append(point[0])\n",
    "        x2_pos.append(point[1])\n",
    "        x3_pos.append(point[2])\n",
    "    else:\n",
    "        x1_neg.append(point[0])\n",
    "        x2_neg.append(point[1])\n",
    "        x3_neg.append(point[2])\n",
    "\n",
    "ax.scatter(x1_pos, x2_pos, x2_pos, c='r')\n",
    "ax.scatter(x1_neg, x2_neg, x3_neg, c='g')"
   ]
  },
  {
   "cell_type": "code",
   "execution_count": null,
   "metadata": {},
   "outputs": [],
   "source": []
  },
  {
   "cell_type": "code",
   "execution_count": null,
   "metadata": {},
   "outputs": [],
   "source": []
  }
 ],
 "metadata": {
  "kernelspec": {
   "display_name": "Python 3",
   "language": "python",
   "name": "python3"
  },
  "language_info": {
   "codemirror_mode": {
    "name": "ipython",
    "version": 3
   },
   "file_extension": ".py",
   "mimetype": "text/x-python",
   "name": "python",
   "nbconvert_exporter": "python",
   "pygments_lexer": "ipython3",
   "version": "3.6.9"
  }
 },
 "nbformat": 4,
 "nbformat_minor": 2
}
