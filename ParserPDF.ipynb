{
 "cells": [
  {
   "cell_type": "code",
   "execution_count": 13,
   "metadata": {},
   "outputs": [],
   "source": [
    "import tika #has to be version 1.19 installed\n",
    "from tika import parser\n",
    "import codecs\n",
    "raw = parser.from_file('opedassign.pdf') #open pdf of choice\n",
    "raw_text = raw['content']\n",
    "f = open(\"contentsTheo11.txt\", 'w+')\n",
    "text_ = codecs.encode(raw_text, 'utf-8')\n",
    "f.write(str(text_))\n",
    "f.close() #now have a text file with pdf files meaningful contents. "
   ]
  },
  {
   "cell_type": "markdown",
   "metadata": {},
   "source": [
    "# Problem\n",
    "- headers and such are still distinguished with certain codes \n",
    "- further work has to be done to clean up result and respect headers and different areas of the pdf. "
   ]
  },
  {
   "cell_type": "code",
   "execution_count": null,
   "metadata": {},
   "outputs": [],
   "source": []
  }
 ],
 "metadata": {
  "kernelspec": {
   "display_name": "Python 3",
   "language": "python",
   "name": "python3"
  },
  "language_info": {
   "codemirror_mode": {
    "name": "ipython",
    "version": 3
   },
   "file_extension": ".py",
   "mimetype": "text/x-python",
   "name": "python",
   "nbconvert_exporter": "python",
   "pygments_lexer": "ipython3",
   "version": "3.6.9"
  }
 },
 "nbformat": 4,
 "nbformat_minor": 2
}
