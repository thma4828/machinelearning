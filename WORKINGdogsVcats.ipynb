{
 "cells": [
  {
   "cell_type": "code",
   "execution_count": 1,
   "metadata": {},
   "outputs": [
    {
     "name": "stderr",
     "output_type": "stream",
     "text": [
      "C:\\Users\\tsmar\\Anaconda3\\lib\\site-packages\\h5py\\__init__.py:36: FutureWarning: Conversion of the second argument of issubdtype from `float` to `np.floating` is deprecated. In future, it will be treated as `np.float64 == np.dtype(float).type`.\n",
      "  from ._conv import register_converters as _register_converters\n",
      "Using TensorFlow backend.\n"
     ]
    }
   ],
   "source": [
    "import keras\n",
    "import numpy as np\n",
    "import cv2\n",
    "from keras.layers import Conv2D\n",
    "from keras.layers import Dense\n",
    "from keras.layers import Flatten\n",
    "from keras.preprocessing import image\n",
    "from keras.layers import MaxPooling2D\n",
    "from keras.models import Sequential\n",
    "from keras.layers import Activation\n",
    "from keras.layers import Dropout"
   ]
  },
  {
   "cell_type": "code",
   "execution_count": 2,
   "metadata": {},
   "outputs": [
    {
     "name": "stdout",
     "output_type": "stream",
     "text": [
      "(374, 500, 3)\n"
     ]
    }
   ],
   "source": [
    "example_img = cv2.imread(\"catsndogs/train/train/cat.0.jpg\")\n",
    "print(np.shape(example_img))"
   ]
  },
  {
   "cell_type": "code",
   "execution_count": 34,
   "metadata": {},
   "outputs": [],
   "source": [
    "#get data and labels at same time for testing and training.\n",
    "overallCount = 0\n",
    "labels_train = []\n",
    "data_train = []\n",
    "len_train = 4000\n",
    "len_test = 500\n",
    "for i in range(len_train):\n",
    "    form = ''\n",
    "    if i%2 == 0:\n",
    "        form = 'cat'\n",
    "        labels_train.append([1, 0])\n",
    "    else:\n",
    "        form = 'dog'\n",
    "        labels_train.append([0, 1])\n",
    "    img_raw = cv2.imread(\"catsndogs/train/train/\" + form + '.' + str(overallCount) +\".jpg\")\n",
    "    img_rs = cv2.resize(img_raw, (50, 50))\n",
    "    data_train.append(img_rs)\n",
    "    overallCount += 1\n",
    "    \n",
    "ocount = 0\n",
    "labels_test = []\n",
    "data_test = []\n",
    "for i in range(len_train + 1, len_train + len_test + 1):\n",
    "    form = ''\n",
    "    if i%2 == 0:\n",
    "        form = 'cat'\n",
    "        labels_test.append([1, 0])\n",
    "    else:\n",
    "        form = 'dog'\n",
    "        labels_test.append([0, 1])\n",
    "    img_raw = cv2.imread(\"catsndogs/train/train/\" + form + '.' + str(i) +\".jpg\")\n",
    "    img_rs = cv2.resize(img_raw, (50, 50))\n",
    "    data_test.append(img_rs)"
   ]
  },
  {
   "cell_type": "code",
   "execution_count": 35,
   "metadata": {},
   "outputs": [
    {
     "name": "stdout",
     "output_type": "stream",
     "text": [
      "(50, 50, 3) [1, 0]\n",
      "(50, 50, 3) [0, 1]\n"
     ]
    }
   ],
   "source": [
    "print(data_train[0].shape, labels_train[0])\n",
    "print(data_test[0].shape, labels_test[0])"
   ]
  },
  {
   "cell_type": "code",
   "execution_count": 44,
   "metadata": {},
   "outputs": [],
   "source": [
    "model = Sequential()\n",
    "model.add(Conv2D(64, (10, 10), input_shape=(50, 50, 3))) #convolutoional (always the first layer.)\n",
    "model.add(Activation('relu'))\n",
    "model.add(Conv2D(64, (5, 5), activation='relu'))\n",
    "model.add(MaxPooling2D(pool_size=(3, 3)))\n",
    "model.add(Flatten())  # this converts our 3D feature maps to 1D feature vectors\n",
    "model.add(Dense(64))\n",
    "model.add(Activation('relu'))\n",
    "model.add(Dropout(0.15))\n",
    "model.add(Dense(32))\n",
    "model.add(Activation('relu'))\n",
    "model.add(Dropout(0.1))\n",
    "model.add(Dense(16))\n",
    "model.add(Activation('relu'))\n",
    "model.add(Dense(2))\n",
    "model.add(Activation('softmax'))"
   ]
  },
  {
   "cell_type": "code",
   "execution_count": 48,
   "metadata": {},
   "outputs": [],
   "source": [
    "model.compile(loss='categorical_crossentropy',\n",
    "              optimizer='adam',\n",
    "              metrics=['accuracy'])"
   ]
  },
  {
   "cell_type": "code",
   "execution_count": 49,
   "metadata": {},
   "outputs": [
    {
     "name": "stdout",
     "output_type": "stream",
     "text": [
      "Epoch 1/1\n",
      "4000/4000 [==============================] - 90s 22ms/step - loss: 8.0590 - acc: 0.5000\n"
     ]
    },
    {
     "data": {
      "text/plain": [
       "<keras.callbacks.History at 0x2598e626da0>"
      ]
     },
     "execution_count": 49,
     "metadata": {},
     "output_type": "execute_result"
    }
   ],
   "source": [
    "model.fit(np.array(data_train), np.array(labels_train), epochs=1)"
   ]
  },
  {
   "cell_type": "code",
   "execution_count": 50,
   "metadata": {},
   "outputs": [
    {
     "name": "stdout",
     "output_type": "stream",
     "text": [
      "500/500 [==============================] - 4s 9ms/step\n",
      "--ENDING ACCURACY--\n",
      "acc: 50.00%\n"
     ]
    }
   ],
   "source": [
    "scores = model.evaluate(np.array(data_test), np.array(labels_test))\n",
    "print(\"--ENDING ACCURACY--\\n%s: %.2f%%\" % (model.metrics_names[1], scores[1]*100))"
   ]
  },
  {
   "cell_type": "code",
   "execution_count": null,
   "metadata": {},
   "outputs": [],
   "source": []
  }
 ],
 "metadata": {
  "kernelspec": {
   "display_name": "Python 3",
   "language": "python",
   "name": "python3"
  },
  "language_info": {
   "codemirror_mode": {
    "name": "ipython",
    "version": 3
   },
   "file_extension": ".py",
   "mimetype": "text/x-python",
   "name": "python",
   "nbconvert_exporter": "python",
   "pygments_lexer": "ipython3",
   "version": "3.6.9"
  }
 },
 "nbformat": 4,
 "nbformat_minor": 2
}
