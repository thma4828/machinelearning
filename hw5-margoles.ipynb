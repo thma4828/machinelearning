{
 "cells": [
  {
   "cell_type": "markdown",
   "metadata": {
    "deletable": false,
    "editable": false,
    "nbgrader": {
     "cell_type": "markdown",
     "checksum": "62bf88c99cd0d6e2c37def0a8b14df50",
     "grade": false,
     "grade_id": "cell-91b5455492f6a6b0",
     "locked": true,
     "schema_version": 3,
     "solution": false,
     "task": false
    }
   },
   "source": [
    "# Homework 5\n",
    "\n",
    "This homeworks consists of two parts: theory and applications. You will:\n",
    "\n",
    "In the **theory** part:\n",
    "1. Practice applying the definitions of **convexity**\n",
    "2. (Extra Credit, at the end): Prove a statement regarding **gradient descent**.\n",
    "\n",
    "In the **applications** part:\n",
    "1. Code a simple gradient descent procedure and analyze the effects of **step size** and **noise**. \n",
    "2. Use your understanding of SVM to perform image classification on the dataset [Fashion MNIST](https://github.com/zalandoresearch/fashion-mnist). For this task we will use `skimage` Python library to generate special image features to feed to the SVM classifier. \n"
   ]
  },
  {
   "cell_type": "markdown",
   "metadata": {
    "deletable": false,
    "editable": false,
    "nbgrader": {
     "cell_type": "markdown",
     "checksum": "68a9593a19fdd35cfad13d587d60be0e",
     "grade": false,
     "grade_id": "cell-c4a56584f30dd58c",
     "locked": true,
     "schema_version": 3,
     "solution": false,
     "task": false
    }
   },
   "source": [
    "## Part 1: Theory / Written Problems (6 pts)\n",
    "\n",
    "You must attempt all problems for credit. Please ask for help early if you are unsure.\n",
    "\n",
    "### Question 1 (6 pts)\n",
    "\n",
    "Show using a couple equations or inequalities) whether the following functions are or are not **convex**. Your argument must contain more than just a graphical argument.\n",
    "\n",
    "1.  $ f(x) = x^2 $, where $x \\in \\mathbb{R}$ is a scalar.\n",
    "2. $ f(x) = \\sin(x) $ where x is a scalar.\n",
    "3. $ f(x) = x^T A x + b^Tx + c$, where $A$ is a positive definite $d \\times d$ matrix and $x \\in \\mathbb{R}^d$ is a d-dimensional vector. $b$ is a constant d-dimensional vector and $c$ is a constant scalar."
   ]
  },
  {
   "cell_type": "markdown",
   "metadata": {
    "deletable": false,
    "nbgrader": {
     "cell_type": "markdown",
     "checksum": "e7c2f7be4444e7dc18454fc794191735",
     "grade": true,
     "grade_id": "cell-e721430b607a9d26",
     "locked": false,
     "points": 6,
     "schema_version": 3,
     "solution": true,
     "task": false
    }
   },
   "source": [
    "1. If we take the first derivative we get 2x, then if we take the second derivative we get 2, so we can see that the second derivative is always positive, and therefore the function $f(x) = x^{2}$ is convex.  \n",
    "\n",
    "2. sin(x) when we take the first derivative we get cos(x), Then when we derivate again we get back to -sin(x) -sin(x) can be negative so this function is not convex. \n",
    "\n",
    "3. we have an equivalent of an $x \\dot x^{T}$ which functions like $x^{2}$ but in $R^{n}$, so when we derivate the only term that will remain in the second derivative is a positive real valued vector so yes this function is in fact convex since the second derivative is always positive."
   ]
  },
  {
   "cell_type": "markdown",
   "metadata": {
    "deletable": false,
    "editable": false,
    "nbgrader": {
     "cell_type": "markdown",
     "checksum": "a4a007319ba144c9cba56260174328bd",
     "grade": false,
     "grade_id": "cell-0da82143bd3ed776",
     "locked": true,
     "schema_version": 3,
     "solution": false,
     "task": false
    }
   },
   "source": [
    "## Part 2: Gradient Descent Coding Exercise (10 pts)\n",
    "\n",
    "Consider the function given below:\n",
    "$$\\psi(x) = \\bigg(\\frac{x}{2}-3\\bigg)^2$$\n",
    "\n",
    "If the task was to find the minima of the function above, one way of doing this would be to calculate the derivative of the function $f'(x)$ and find the value of $x$ for which $f'(x) = 0$. <br>\n",
    "\n",
    "But we learned another technique in class which also involved calculating derivatives(partial derivatives) with respect to parameters which would minimize a  loss function for a machine learning algorithm for which finding the optima isn't as straight forward as described in the paragraph above. This technique is __Gradient Descent__. \n",
    "\n",
    "It involves initializing the parameter to be optimized at a random location in the landscape(curve described by the function) of the function and taking controlled steps toward the optima of an amount proportional to the negative of the gradient at that current point. Say we were trying to optimize a function $f(\\Theta)$ which is a function of $\\Theta = \\{\\theta_i | i\\in\\{1...n\\}\\}$. Taking a step toward the minima would look as below:\n",
    "$$ \\theta_i = \\theta_i - \\alpha \\frac{\\delta}{\\delta\\theta_i}f(\\Theta)$$\n",
    "\n",
    "In the following sections we shall optimize the single parameter function $\\psi(x)$ using gradient descent."
   ]
  },
  {
   "cell_type": "code",
   "execution_count": 2,
   "metadata": {
    "deletable": false,
    "editable": false,
    "nbgrader": {
     "cell_type": "code",
     "checksum": "5b8223073662e8916adbba83bf62831d",
     "grade": false,
     "grade_id": "cell-5f246c5bf017acd3",
     "locked": true,
     "schema_version": 3,
     "solution": false,
     "task": false
    }
   },
   "outputs": [],
   "source": [
    "import numpy as np\n",
    "import matplotlib.pyplot as plt\n",
    "import time"
   ]
  },
  {
   "cell_type": "code",
   "execution_count": null,
   "metadata": {},
   "outputs": [],
   "source": []
  },
  {
   "cell_type": "code",
   "execution_count": 3,
   "metadata": {
    "deletable": false,
    "nbgrader": {
     "cell_type": "code",
     "checksum": "1bbefbda5b766c11cc4bf119d06674b1",
     "grade": false,
     "grade_id": "cell-9d06051959c79ae5",
     "locked": false,
     "schema_version": 3,
     "solution": true,
     "task": false
    }
   },
   "outputs": [],
   "source": [
    "def function(x):\n",
    "    \"\"\"\n",
    "    Given a variable / np.array of variables x return the corresponding values of function descibed above\n",
    "    Note that this x can be single numeric variable or a numpy array\n",
    "    \n",
    "    Args: x - single numeric variable or a np.array\n",
    "          \n",
    "    Returns:\n",
    "          y - corresponding value for the function described\n",
    "    \"\"\"\n",
    "    # YOUR CODE HERE\n",
    "    return ((x / 2) - 3)**2"
   ]
  },
  {
   "cell_type": "code",
   "execution_count": 4,
   "metadata": {
    "deletable": false,
    "editable": false,
    "nbgrader": {
     "cell_type": "code",
     "checksum": "2e19cb64de96845f29262838db87a22a",
     "grade": true,
     "grade_id": "cell-1ee3372bca36abaa",
     "locked": true,
     "points": 2,
     "schema_version": 3,
     "solution": false,
     "task": false
    }
   },
   "outputs": [],
   "source": [
    "# Here are a couple of tests to check your implementation\n",
    "test_fx = function(2.0)\n",
    "assert( test_fx == 4)\n",
    "test_fx2 = function(6.0)\n",
    "assert(test_fx2 == 0.0)"
   ]
  },
  {
   "cell_type": "code",
   "execution_count": 5,
   "metadata": {
    "deletable": false,
    "nbgrader": {
     "cell_type": "code",
     "checksum": "a42eb3b98349a896408a4a454aaa06e2",
     "grade": false,
     "grade_id": "cell-a03727a0b3870cf2",
     "locked": false,
     "schema_version": 3,
     "solution": true,
     "task": false
    }
   },
   "outputs": [],
   "source": [
    "def gradient(x):\n",
    "    \"\"\"\n",
    "    Given a numeric variable x calculate the corresponding gradient value which is the value of f'(x)\n",
    "    \n",
    "    Args: x - single numeric variable\n",
    "          \n",
    "    Returns: \n",
    "          delta - corresponding value for the derivative of the function being considered\n",
    "    \"\"\"\n",
    "    # YOUR CODE HERE\n",
    "    return (x / 2) - 3"
   ]
  },
  {
   "cell_type": "code",
   "execution_count": 6,
   "metadata": {
    "deletable": false,
    "editable": false,
    "nbgrader": {
     "cell_type": "code",
     "checksum": "d4247f6ca83be2edd8807c8a051614c8",
     "grade": true,
     "grade_id": "cell-123b8a56f741ab41",
     "locked": true,
     "points": 2,
     "schema_version": 3,
     "solution": false,
     "task": false
    }
   },
   "outputs": [],
   "source": [
    "test_fx_grad = gradient(2.0)\n",
    "assert( test_fx_grad == -2)\n",
    "assert(gradient(6.0) == 0.0)"
   ]
  },
  {
   "cell_type": "code",
   "execution_count": 7,
   "metadata": {
    "deletable": false,
    "nbgrader": {
     "cell_type": "code",
     "checksum": "267db163ffd0b47f45cc0e708fadab76",
     "grade": true,
     "grade_id": "cell-79bcf480ee20775b",
     "locked": false,
     "points": 2,
     "schema_version": 3,
     "solution": true,
     "task": false
    }
   },
   "outputs": [],
   "source": [
    "def gradient_descent(x, alpha):\n",
    "    \"\"\"\n",
    "    Given a numeric variable x calculate the corresponding gradient value which is the value of f'(x)\n",
    "    \n",
    "    You should terminate your function when either \n",
    "    \n",
    "    1. 1000 steps have been reached\n",
    "    or\n",
    "    2. The norm of the step size is less than some fixed, small value (like 1e-3)\n",
    "    \n",
    "    Args: \n",
    "        x - single numeric variable or a np.array from where the optimization must start.\n",
    "        alpha - learning rate / step size to control the updates made to x during the optimization process\n",
    "        \n",
    "          \n",
    "    Returns: \n",
    "          path (np.ndarray) that contains the values x takes while approaching the minima\n",
    "          steps (int) that is the number of steps it had to take to reach there\n",
    "    \"\"\"\n",
    "    # YOUR CODE HERE\n",
    "    phi = 10\n",
    "    step = 0\n",
    "    xi = x\n",
    "    path = np.array([x])\n",
    "    while step < 1000 and phi > 1e-3:\n",
    "        xold = xi\n",
    "        xi = xi - (alpha * gradient(xi))\n",
    "        phi = np.linalg.norm(xold - xi)\n",
    "        path = np.append(path, xi)\n",
    "        step += 1\n",
    "        \n",
    "    return path, step"
   ]
  },
  {
   "cell_type": "markdown",
   "metadata": {
    "deletable": false,
    "editable": false,
    "nbgrader": {
     "cell_type": "markdown",
     "checksum": "b0c8082861c329d903578473a4982df7",
     "grade": false,
     "grade_id": "cell-e7bd750d96ed123a",
     "locked": true,
     "schema_version": 3,
     "solution": false,
     "task": false
    }
   },
   "source": [
    "4. Complete the function below that tracks the paths followed(different values of $x$ as you perform the updates) and number of steps taken by gradient descent for $x$ initialized at specific value and a range of alpha values specified and stores the results in a dicitionary indexed on the alpha values. Structure of the Dictionary returned has been described below. \n",
    "\n",
    "The following cell is a test which get the results for $x=-20.0$ and $\\alpha$ values `[0.0001, 0.01, 0.1, 0.2, 1.0, 3.0, 5.0]` and prints number of steps taken for each alpha value. "
   ]
  },
  {
   "cell_type": "code",
   "execution_count": 8,
   "metadata": {
    "deletable": false,
    "nbgrader": {
     "cell_type": "code",
     "checksum": "7ecc16bf78adff9e409163d391a21e5b",
     "grade": false,
     "grade_id": "cell-062d8bbe8db86795",
     "locked": false,
     "schema_version": 3,
     "solution": true,
     "task": false
    }
   },
   "outputs": [],
   "source": [
    "def optimize_and_evaluate(x, alphas):\n",
    "    \"\"\"\n",
    "    Given a numeric variable x which contains the starting point in the function curve\n",
    "    and the set of learning rates provided in alphas track the path followed and steps while performing gradient\n",
    "    descent using gradient_descent function you wrote above and return it in a dictionary indexed on alpha values.\n",
    "    \n",
    "    Args: \n",
    "        x - single numeric variable or a np.array from where the optimization must start.\n",
    "        alphas - learning rates / step sizes to control the updates made to x during the optimization process\n",
    "        \n",
    "          \n",
    "    Returns: \n",
    "          gradient_descents ( dict() ) which has the following structure\n",
    "          {\n",
    "              alpha_1 : {\n",
    "                  path : np.ndarray(),\n",
    "                  steps : int\n",
    "              }\n",
    "              ...\n",
    "          }\n",
    "          \n",
    "          eg. \n",
    "          {\n",
    "              0.1 : {\n",
    "                  path: [1,2,3...],\n",
    "                  steps : 10\n",
    "              },\n",
    "              0.2 : {\n",
    "                  path: [1,2,3...],\n",
    "                  steps : 10\n",
    "              },... \n",
    "          }\n",
    "    \"\"\"\n",
    "    # YOUR CODE HERE\n",
    "    g = {}\n",
    "    for alpha in alphas:\n",
    "        path, steps = gradient_descent(x, alpha) \n",
    "        g[alpha] = {'path':path, 'steps':steps}\n",
    "    return g"
   ]
  },
  {
   "cell_type": "code",
   "execution_count": 9,
   "metadata": {
    "deletable": false,
    "editable": false,
    "nbgrader": {
     "cell_type": "code",
     "checksum": "2a6087c3965085a60f9af83643082e6d",
     "grade": true,
     "grade_id": "cell-993e0c0f553b365a",
     "locked": true,
     "points": 2,
     "schema_version": 3,
     "solution": false,
     "task": false
    }
   },
   "outputs": [
    {
     "name": "stdout",
     "output_type": "stream",
     "text": [
      "1000\n",
      "973\n",
      "141\n",
      "76\n",
      "15\n",
      "17\n",
      "1000\n"
     ]
    }
   ],
   "source": [
    "# Runs your code above and prints the number of steps until termination.\n",
    "alphas = [0.0001, 0.01, 0.1, 0.2, 1.0, 3.0, 5.0]\n",
    "x = -20.0\n",
    "result = optimize_and_evaluate(x, alphas)\n",
    "for alpha in alphas:\n",
    "    print(result[alpha]['steps'])"
   ]
  },
  {
   "cell_type": "code",
   "execution_count": 10,
   "metadata": {},
   "outputs": [
    {
     "data": {
      "text/plain": [
       "array([-2.00000000e+01, -1.98700000e+01, -1.97406500e+01, -1.96119468e+01,\n",
       "       -1.94838870e+01, -1.93564676e+01, -1.92296852e+01, -1.91035368e+01,\n",
       "       -1.89780191e+01, -1.88531290e+01, -1.87288634e+01, -1.86052191e+01,\n",
       "       -1.84821930e+01, -1.83597820e+01, -1.82379831e+01, -1.81167932e+01,\n",
       "       -1.79962092e+01, -1.78762282e+01, -1.77568470e+01, -1.76380628e+01,\n",
       "       -1.75198725e+01, -1.74022731e+01, -1.72852618e+01, -1.71688355e+01,\n",
       "       -1.70529913e+01, -1.69377263e+01, -1.68230377e+01, -1.67089225e+01,\n",
       "       -1.65953779e+01, -1.64824010e+01, -1.63699890e+01, -1.62581390e+01,\n",
       "       -1.61468483e+01, -1.60361141e+01, -1.59259335e+01, -1.58163039e+01,\n",
       "       -1.57072224e+01, -1.55986862e+01, -1.54906928e+01, -1.53832393e+01,\n",
       "       -1.52763231e+01, -1.51699415e+01, -1.50640918e+01, -1.49587714e+01,\n",
       "       -1.48539775e+01, -1.47497076e+01, -1.46459591e+01, -1.45427293e+01,\n",
       "       -1.44400156e+01, -1.43378156e+01, -1.42361265e+01, -1.41349459e+01,\n",
       "       -1.40342711e+01, -1.39340998e+01, -1.38344293e+01, -1.37352571e+01,\n",
       "       -1.36365808e+01, -1.35383979e+01, -1.34407059e+01, -1.33435024e+01,\n",
       "       -1.32467849e+01, -1.31505510e+01, -1.30547982e+01, -1.29595242e+01,\n",
       "       -1.28647266e+01, -1.27704030e+01, -1.26765510e+01, -1.25831682e+01,\n",
       "       -1.24902524e+01, -1.23978011e+01, -1.23058121e+01, -1.22142830e+01,\n",
       "       -1.21232116e+01, -1.20325956e+01, -1.19424326e+01, -1.18527204e+01,\n",
       "       -1.17634568e+01, -1.16746395e+01, -1.15862663e+01, -1.14983350e+01,\n",
       "       -1.14108433e+01, -1.13237891e+01, -1.12371702e+01, -1.11509843e+01,\n",
       "       -1.10652294e+01, -1.09799033e+01, -1.08950037e+01, -1.08105287e+01,\n",
       "       -1.07264761e+01, -1.06428437e+01, -1.05596295e+01, -1.04768313e+01,\n",
       "       -1.03944472e+01, -1.03124749e+01, -1.02309126e+01, -1.01497580e+01,\n",
       "       -1.00690092e+01, -9.98866416e+00, -9.90872084e+00, -9.82917723e+00,\n",
       "       -9.75003135e+00, -9.67128119e+00, -9.59292479e+00, -9.51496016e+00,\n",
       "       -9.43738536e+00, -9.36019843e+00, -9.28339744e+00, -9.20698046e+00,\n",
       "       -9.13094555e+00, -9.05529083e+00, -8.98001437e+00, -8.90511430e+00,\n",
       "       -8.83058873e+00, -8.75643578e+00, -8.68265361e+00, -8.60924034e+00,\n",
       "       -8.53619414e+00, -8.46351316e+00, -8.39119560e+00, -8.31923962e+00,\n",
       "       -8.24764342e+00, -8.17640521e+00, -8.10552318e+00, -8.03499556e+00,\n",
       "       -7.96482059e+00, -7.89499648e+00, -7.82552150e+00, -7.75639389e+00,\n",
       "       -7.68761192e+00, -7.61917386e+00, -7.55107799e+00, -7.48332260e+00,\n",
       "       -7.41590599e+00, -7.34882646e+00, -7.28208233e+00, -7.21567192e+00,\n",
       "       -7.14959356e+00, -7.08384559e+00, -7.01842636e+00, -6.95333423e+00,\n",
       "       -6.88856756e+00, -6.82412472e+00, -6.76000410e+00, -6.69620408e+00,\n",
       "       -6.63272306e+00, -6.56955944e+00, -6.50671164e+00, -6.44417809e+00,\n",
       "       -6.38195720e+00, -6.32004741e+00, -6.25844717e+00, -6.19715494e+00,\n",
       "       -6.13616916e+00, -6.07548832e+00, -6.01511088e+00, -5.95503532e+00,\n",
       "       -5.89526014e+00, -5.83578384e+00, -5.77660492e+00, -5.71772190e+00,\n",
       "       -5.65913329e+00, -5.60083762e+00, -5.54283344e+00, -5.48511927e+00,\n",
       "       -5.42769367e+00, -5.37055520e+00, -5.31370243e+00, -5.25713392e+00,\n",
       "       -5.20084825e+00, -5.14484400e+00, -5.08911978e+00, -5.03367419e+00,\n",
       "       -4.97850581e+00, -4.92361329e+00, -4.86899522e+00, -4.81465024e+00,\n",
       "       -4.76057699e+00, -4.70677411e+00, -4.65324024e+00, -4.59997404e+00,\n",
       "       -4.54697417e+00, -4.49423929e+00, -4.44176810e+00, -4.38955926e+00,\n",
       "       -4.33761146e+00, -4.28592340e+00, -4.23449379e+00, -4.18332132e+00,\n",
       "       -4.13240471e+00, -4.08174269e+00, -4.03133397e+00, -3.98117730e+00,\n",
       "       -3.93127142e+00, -3.88161506e+00, -3.83220699e+00, -3.78304595e+00,\n",
       "       -3.73413072e+00, -3.68546007e+00, -3.63703277e+00, -3.58884760e+00,\n",
       "       -3.54090336e+00, -3.49319885e+00, -3.44573285e+00, -3.39850419e+00,\n",
       "       -3.35151167e+00, -3.30475411e+00, -3.25823034e+00, -3.21193919e+00,\n",
       "       -3.16587949e+00, -3.12005009e+00, -3.07444984e+00, -3.02907759e+00,\n",
       "       -2.98393221e+00, -2.93901255e+00, -2.89431748e+00, -2.84984590e+00,\n",
       "       -2.80559667e+00, -2.76156868e+00, -2.71776084e+00, -2.67417204e+00,\n",
       "       -2.63080118e+00, -2.58764717e+00, -2.54470893e+00, -2.50198539e+00,\n",
       "       -2.45947546e+00, -2.41717808e+00, -2.37509219e+00, -2.33321673e+00,\n",
       "       -2.29155065e+00, -2.25009290e+00, -2.20884243e+00, -2.16779822e+00,\n",
       "       -2.12695923e+00, -2.08632443e+00, -2.04589281e+00, -2.00566335e+00,\n",
       "       -1.96563503e+00, -1.92580685e+00, -1.88617782e+00, -1.84674693e+00,\n",
       "       -1.80751320e+00, -1.76847563e+00, -1.72963325e+00, -1.69098509e+00,\n",
       "       -1.65253016e+00, -1.61426751e+00, -1.57619617e+00, -1.53831519e+00,\n",
       "       -1.50062362e+00, -1.46312050e+00, -1.42580489e+00, -1.38867587e+00,\n",
       "       -1.35173249e+00, -1.31497383e+00, -1.27839896e+00, -1.24200696e+00,\n",
       "       -1.20579693e+00, -1.16976794e+00, -1.13391911e+00, -1.09824951e+00,\n",
       "       -1.06275826e+00, -1.02744447e+00, -9.92307249e-01, -9.57345712e-01,\n",
       "       -9.22558984e-01, -8.87946189e-01, -8.53506458e-01, -8.19238926e-01,\n",
       "       -7.85142731e-01, -7.51217017e-01, -7.17460932e-01, -6.83873628e-01,\n",
       "       -6.50454259e-01, -6.17201988e-01, -5.84115978e-01, -5.51195398e-01,\n",
       "       -5.18439421e-01, -4.85847224e-01, -4.53417988e-01, -4.21150898e-01,\n",
       "       -3.89045144e-01, -3.57099918e-01, -3.25314418e-01, -2.93687846e-01,\n",
       "       -2.62219407e-01, -2.30908310e-01, -1.99753768e-01, -1.68755000e-01,\n",
       "       -1.37911225e-01, -1.07221668e-01, -7.66855601e-02, -4.63021323e-02,\n",
       "       -1.60706216e-02,  1.40097315e-02,  4.39396828e-02,  7.37199844e-02,\n",
       "        1.03351384e-01,  1.32834628e-01,  1.62170454e-01,  1.91359602e-01,\n",
       "        2.20402804e-01,  2.49300790e-01,  2.78054286e-01,  3.06664015e-01,\n",
       "        3.35130695e-01,  3.63455041e-01,  3.91637766e-01,  4.19679577e-01,\n",
       "        4.47581179e-01,  4.75343273e-01,  5.02966557e-01,  5.30451724e-01,\n",
       "        5.57799466e-01,  5.85010468e-01,  6.12085416e-01,  6.39024989e-01,\n",
       "        6.65829864e-01,  6.92500715e-01,  7.19038211e-01,  7.45443020e-01,\n",
       "        7.71715805e-01,  7.97857226e-01,  8.23867940e-01,  8.49748600e-01,\n",
       "        8.75499857e-01,  9.01122358e-01,  9.26616746e-01,  9.51983662e-01,\n",
       "        9.77223744e-01,  1.00233763e+00,  1.02732594e+00,  1.05218931e+00,\n",
       "        1.07692836e+00,  1.10154372e+00,  1.12603600e+00,  1.15040582e+00,\n",
       "        1.17465379e+00,  1.19878052e+00,  1.22278662e+00,  1.24667269e+00,\n",
       "        1.27043932e+00,  1.29408713e+00,  1.31761669e+00,  1.34102861e+00,\n",
       "        1.36432346e+00,  1.38750185e+00,  1.41056434e+00,  1.43351152e+00,\n",
       "        1.45634396e+00,  1.47906224e+00,  1.50166693e+00,  1.52415859e+00,\n",
       "        1.54653780e+00,  1.56880511e+00,  1.59096109e+00,  1.61300628e+00,\n",
       "        1.63494125e+00,  1.65676654e+00,  1.67848271e+00,  1.70009030e+00,\n",
       "        1.72158984e+00,  1.74298190e+00,  1.76426699e+00,  1.78544565e+00,\n",
       "        1.80651842e+00,  1.82748583e+00,  1.84834840e+00,  1.86910666e+00,\n",
       "        1.88976113e+00,  1.91031232e+00,  1.93076076e+00,  1.95110696e+00,\n",
       "        1.97135142e+00,  1.99149466e+00,  2.01153719e+00,  2.03147950e+00,\n",
       "        2.05132211e+00,  2.07106550e+00,  2.09071017e+00,  2.11025662e+00,\n",
       "        2.12970533e+00,  2.14905681e+00,  2.16831152e+00,  2.18746997e+00,\n",
       "        2.20653262e+00,  2.22549995e+00,  2.24437245e+00,  2.26315059e+00,\n",
       "        2.28183484e+00,  2.30042566e+00,  2.31892354e+00,  2.33732892e+00,\n",
       "        2.35564227e+00,  2.37386406e+00,  2.39199474e+00,  2.41003477e+00,\n",
       "        2.42798459e+00,  2.44584467e+00,  2.46361545e+00,  2.48129737e+00,\n",
       "        2.49889088e+00,  2.51639643e+00,  2.53381445e+00,  2.55114538e+00,\n",
       "        2.56838965e+00,  2.58554770e+00,  2.60261996e+00,  2.61960686e+00,\n",
       "        2.63650883e+00,  2.65332628e+00,  2.67005965e+00,  2.68670935e+00,\n",
       "        2.70327581e+00,  2.71975943e+00,  2.73616063e+00,  2.75247983e+00,\n",
       "        2.76871743e+00,  2.78487384e+00,  2.80094947e+00,  2.81694472e+00,\n",
       "        2.83286000e+00,  2.84869570e+00,  2.86445222e+00,  2.88012996e+00,\n",
       "        2.89572931e+00,  2.91125067e+00,  2.92669441e+00,  2.94206094e+00,\n",
       "        2.95735063e+00,  2.97256388e+00,  2.98770106e+00,  3.00276256e+00,\n",
       "        3.01774874e+00,  3.03266000e+00,  3.04749670e+00,  3.06225922e+00,\n",
       "        3.07694792e+00,  3.09156318e+00,  3.10610537e+00,  3.12057484e+00,\n",
       "        3.13497196e+00,  3.14929710e+00,  3.16355062e+00,  3.17773287e+00,\n",
       "        3.19184420e+00,  3.20588498e+00,  3.21985556e+00,  3.23375628e+00,\n",
       "        3.24758750e+00,  3.26134956e+00,  3.27504281e+00,  3.28866760e+00,\n",
       "        3.30222426e+00,  3.31571314e+00,  3.32913457e+00,  3.34248890e+00,\n",
       "        3.35577645e+00,  3.36899757e+00,  3.38215258e+00,  3.39524182e+00,\n",
       "        3.40826561e+00,  3.42122428e+00,  3.43411816e+00,  3.44694757e+00,\n",
       "        3.45971283e+00,  3.47241427e+00,  3.48505220e+00,  3.49762694e+00,\n",
       "        3.51013880e+00,  3.52258811e+00,  3.53497517e+00,  3.54730029e+00,\n",
       "        3.55956379e+00,  3.57176597e+00,  3.58390714e+00,  3.59598761e+00,\n",
       "        3.60800767e+00,  3.61996763e+00,  3.63186779e+00,  3.64370845e+00,\n",
       "        3.65548991e+00,  3.66721246e+00,  3.67887640e+00,  3.69048202e+00,\n",
       "        3.70202961e+00,  3.71351946e+00,  3.72495186e+00,  3.73632710e+00,\n",
       "        3.74764547e+00,  3.75890724e+00,  3.77011270e+00,  3.78126214e+00,\n",
       "        3.79235583e+00,  3.80339405e+00,  3.81437708e+00,  3.82530519e+00,\n",
       "        3.83617867e+00,  3.84699778e+00,  3.85776279e+00,  3.86847397e+00,\n",
       "        3.87913160e+00,  3.88973594e+00,  3.90028726e+00,  3.91078583e+00,\n",
       "        3.92123190e+00,  3.93162574e+00,  3.94196761e+00,  3.95225777e+00,\n",
       "        3.96249648e+00,  3.97268400e+00,  3.98282058e+00,  3.99290648e+00,\n",
       "        4.00294195e+00,  4.01292724e+00,  4.02286260e+00,  4.03274829e+00,\n",
       "        4.04258455e+00,  4.05237162e+00,  4.06210977e+00,  4.07179922e+00,\n",
       "        4.08144022e+00,  4.09103302e+00,  4.10057785e+00,  4.11007496e+00,\n",
       "        4.11952459e+00,  4.12892697e+00,  4.13828233e+00,  4.14759092e+00,\n",
       "        4.15685297e+00,  4.16606870e+00,  4.17523836e+00,  4.18436217e+00,\n",
       "        4.19344036e+00,  4.20247315e+00,  4.21146079e+00,  4.22040348e+00,\n",
       "        4.22930147e+00,  4.23815496e+00,  4.24696418e+00,  4.25572936e+00,\n",
       "        4.26445072e+00,  4.27312846e+00,  4.28176282e+00,  4.29035401e+00,\n",
       "        4.29890224e+00,  4.30740773e+00,  4.31587069e+00,  4.32429133e+00,\n",
       "        4.33266988e+00,  4.34100653e+00,  4.34930149e+00,  4.35755499e+00,\n",
       "        4.36576721e+00,  4.37393838e+00,  4.38206868e+00,  4.39015834e+00,\n",
       "        4.39820755e+00,  4.40621651e+00,  4.41418543e+00,  4.42211450e+00,\n",
       "        4.43000393e+00,  4.43785391e+00,  4.44566464e+00,  4.45343632e+00,\n",
       "        4.46116913e+00,  4.46886329e+00,  4.47651897e+00,  4.48413638e+00,\n",
       "        4.49171570e+00,  4.49925712e+00,  4.50676083e+00,  4.51422703e+00,\n",
       "        4.52165589e+00,  4.52904761e+00,  4.53640238e+00,  4.54372036e+00,\n",
       "        4.55100176e+00,  4.55824675e+00,  4.56545552e+00,  4.57262824e+00,\n",
       "        4.57976510e+00,  4.58686627e+00,  4.59393194e+00,  4.60096228e+00,\n",
       "        4.60795747e+00,  4.61491768e+00,  4.62184310e+00,  4.62873388e+00,\n",
       "        4.63559021e+00,  4.64241226e+00,  4.64920020e+00,  4.65595420e+00,\n",
       "        4.66267443e+00,  4.66936105e+00,  4.67601425e+00,  4.68263418e+00,\n",
       "        4.68922101e+00,  4.69577490e+00,  4.70229603e+00,  4.70878455e+00,\n",
       "        4.71524063e+00,  4.72166442e+00,  4.72805610e+00,  4.73441582e+00,\n",
       "        4.74074374e+00,  4.74704002e+00,  4.75330482e+00,  4.75953830e+00,\n",
       "        4.76574061e+00,  4.77191190e+00,  4.77805234e+00,  4.78416208e+00,\n",
       "        4.79024127e+00,  4.79629006e+00,  4.80230861e+00,  4.80829707e+00,\n",
       "        4.81425559e+00,  4.82018431e+00,  4.82608339e+00,  4.83195297e+00,\n",
       "        4.83779320e+00,  4.84360424e+00,  4.84938622e+00,  4.85513929e+00,\n",
       "        4.86086359e+00,  4.86655927e+00,  4.87222648e+00,  4.87786534e+00,\n",
       "        4.88347602e+00,  4.88905864e+00,  4.89461334e+00,  4.90014028e+00,\n",
       "        4.90563958e+00,  4.91111138e+00,  4.91655582e+00,  4.92197304e+00,\n",
       "        4.92736318e+00,  4.93272636e+00,  4.93806273e+00,  4.94337241e+00,\n",
       "        4.94865555e+00,  4.95391228e+00,  4.95914271e+00,  4.96434700e+00,\n",
       "        4.96952527e+00,  4.97467764e+00,  4.97980425e+00,  4.98490523e+00,\n",
       "        4.98998070e+00,  4.99503080e+00,  5.00005565e+00,  5.00505537e+00,\n",
       "        5.01003009e+00,  5.01497994e+00,  5.01990504e+00,  5.02480552e+00,\n",
       "        5.02968149e+00,  5.03453308e+00,  5.03936041e+00,  5.04416361e+00,\n",
       "        5.04894279e+00,  5.05369808e+00,  5.05842959e+00,  5.06313744e+00,\n",
       "        5.06782176e+00,  5.07248265e+00,  5.07712023e+00,  5.08173463e+00,\n",
       "        5.08632596e+00,  5.09089433e+00,  5.09543986e+00,  5.09996266e+00,\n",
       "        5.10446284e+00,  5.10894053e+00,  5.11339583e+00,  5.11782885e+00,\n",
       "        5.12223970e+00,  5.12662851e+00,  5.13099536e+00,  5.13534039e+00,\n",
       "        5.13966368e+00,  5.14396537e+00,  5.14824554e+00,  5.15250431e+00,\n",
       "        5.15674179e+00,  5.16095808e+00,  5.16515329e+00,  5.16932752e+00,\n",
       "        5.17348089e+00,  5.17761348e+00,  5.18172542e+00,  5.18581679e+00,\n",
       "        5.18988770e+00,  5.19393827e+00,  5.19796857e+00,  5.20197873e+00,\n",
       "        5.20596884e+00,  5.20993899e+00,  5.21388930e+00,  5.21781985e+00,\n",
       "        5.22173075e+00,  5.22562210e+00,  5.22949399e+00,  5.23334652e+00,\n",
       "        5.23717979e+00,  5.24099389e+00,  5.24478892e+00,  5.24856497e+00,\n",
       "        5.25232215e+00,  5.25606054e+00,  5.25978023e+00,  5.26348133e+00,\n",
       "        5.26716393e+00,  5.27082811e+00,  5.27447397e+00,  5.27810160e+00,\n",
       "        5.28171109e+00,  5.28530253e+00,  5.28887602e+00,  5.29243164e+00,\n",
       "        5.29596948e+00,  5.29948964e+00,  5.30299219e+00,  5.30647723e+00,\n",
       "        5.30994484e+00,  5.31339512e+00,  5.31682814e+00,  5.32024400e+00,\n",
       "        5.32364278e+00,  5.32702457e+00,  5.33038944e+00,  5.33373750e+00,\n",
       "        5.33706881e+00,  5.34038346e+00,  5.34368155e+00,  5.34696314e+00,\n",
       "        5.35022832e+00,  5.35347718e+00,  5.35670980e+00,  5.35992625e+00,\n",
       "        5.36312662e+00,  5.36631098e+00,  5.36947943e+00,  5.37263203e+00,\n",
       "        5.37576887e+00,  5.37889003e+00,  5.38199558e+00,  5.38508560e+00,\n",
       "        5.38816017e+00,  5.39121937e+00,  5.39426327e+00,  5.39729196e+00,\n",
       "        5.40030550e+00,  5.40330397e+00,  5.40628745e+00,  5.40925601e+00,\n",
       "        5.41220973e+00,  5.41514868e+00,  5.41807294e+00,  5.42098257e+00,\n",
       "        5.42387766e+00,  5.42675827e+00,  5.42962448e+00,  5.43247636e+00,\n",
       "        5.43531398e+00,  5.43813741e+00,  5.44094672e+00,  5.44374199e+00,\n",
       "        5.44652328e+00,  5.44929066e+00,  5.45204421e+00,  5.45478399e+00,\n",
       "        5.45751007e+00,  5.46022252e+00,  5.46292140e+00,  5.46560680e+00,\n",
       "        5.46827876e+00,  5.47093737e+00,  5.47358268e+00,  5.47621477e+00,\n",
       "        5.47883369e+00,  5.48143953e+00,  5.48403233e+00,  5.48661217e+00,\n",
       "        5.48917911e+00,  5.49173321e+00,  5.49427454e+00,  5.49680317e+00,\n",
       "        5.49931916e+00,  5.50182256e+00,  5.50431345e+00,  5.50679188e+00,\n",
       "        5.50925792e+00,  5.51171163e+00,  5.51415307e+00,  5.51658231e+00,\n",
       "        5.51899940e+00,  5.52140440e+00,  5.52379738e+00,  5.52617839e+00,\n",
       "        5.52854750e+00,  5.53090476e+00,  5.53325024e+00,  5.53558399e+00,\n",
       "        5.53790607e+00,  5.54021654e+00,  5.54251545e+00,  5.54480288e+00,\n",
       "        5.54707886e+00,  5.54934347e+00,  5.55159675e+00,  5.55383877e+00,\n",
       "        5.55606957e+00,  5.55828922e+00,  5.56049778e+00,  5.56269529e+00,\n",
       "        5.56488181e+00,  5.56705740e+00,  5.56922212e+00,  5.57137601e+00,\n",
       "        5.57351913e+00,  5.57565153e+00,  5.57777327e+00,  5.57988441e+00,\n",
       "        5.58198498e+00,  5.58407506e+00,  5.58615468e+00,  5.58822391e+00,\n",
       "        5.59028279e+00,  5.59233138e+00,  5.59436972e+00,  5.59639787e+00,\n",
       "        5.59841588e+00,  5.60042380e+00,  5.60242168e+00,  5.60440958e+00,\n",
       "        5.60638753e+00,  5.60835559e+00,  5.61031381e+00,  5.61226224e+00,\n",
       "        5.61420093e+00,  5.61612993e+00,  5.61804928e+00,  5.61995903e+00,\n",
       "        5.62185924e+00,  5.62374994e+00,  5.62563119e+00,  5.62750303e+00,\n",
       "        5.62936552e+00,  5.63121869e+00,  5.63306260e+00,  5.63489728e+00,\n",
       "        5.63672280e+00,  5.63853918e+00,  5.64034649e+00,  5.64214476e+00,\n",
       "        5.64393403e+00,  5.64571436e+00,  5.64748579e+00,  5.64924836e+00,\n",
       "        5.65100212e+00,  5.65274711e+00,  5.65448337e+00,  5.65621096e+00,\n",
       "        5.65792990e+00,  5.65964025e+00,  5.66134205e+00,  5.66303534e+00,\n",
       "        5.66472016e+00,  5.66639656e+00,  5.66806458e+00,  5.66972426e+00,\n",
       "        5.67137564e+00,  5.67301876e+00,  5.67465366e+00,  5.67628040e+00,\n",
       "        5.67789899e+00,  5.67950950e+00,  5.68111195e+00,  5.68270639e+00,\n",
       "        5.68429286e+00,  5.68587140e+00,  5.68744204e+00,  5.68900483e+00,\n",
       "        5.69055980e+00,  5.69210701e+00,  5.69364647e+00,  5.69517824e+00,\n",
       "        5.69670235e+00,  5.69821883e+00,  5.69972774e+00,  5.70122910e+00,\n",
       "        5.70272296e+00,  5.70420934e+00,  5.70568830e+00,  5.70715985e+00,\n",
       "        5.70862405e+00,  5.71008093e+00,  5.71153053e+00,  5.71297288e+00,\n",
       "        5.71440801e+00,  5.71583597e+00,  5.71725679e+00,  5.71867051e+00,\n",
       "        5.72007716e+00,  5.72147677e+00,  5.72286939e+00,  5.72425504e+00,\n",
       "        5.72563376e+00,  5.72700560e+00,  5.72837057e+00,  5.72972871e+00,\n",
       "        5.73108007e+00,  5.73242467e+00,  5.73376255e+00,  5.73509373e+00,\n",
       "        5.73641827e+00,  5.73773617e+00,  5.73904749e+00,  5.74035226e+00,\n",
       "        5.74165049e+00,  5.74294224e+00,  5.74422753e+00,  5.74550639e+00,\n",
       "        5.74677886e+00,  5.74804497e+00,  5.74930474e+00,  5.75055822e+00,\n",
       "        5.75180543e+00,  5.75304640e+00,  5.75428117e+00,  5.75550976e+00,\n",
       "        5.75673221e+00,  5.75794855e+00,  5.75915881e+00,  5.76036302e+00,\n",
       "        5.76156120e+00,  5.76275339e+00,  5.76393963e+00,  5.76511993e+00,\n",
       "        5.76629433e+00,  5.76746286e+00,  5.76862554e+00,  5.76978242e+00,\n",
       "        5.77093350e+00,  5.77207884e+00,  5.77321844e+00,  5.77435235e+00,\n",
       "        5.77548059e+00,  5.77660319e+00,  5.77772017e+00,  5.77883157e+00,\n",
       "        5.77993741e+00,  5.78103772e+00,  5.78213254e+00,  5.78322187e+00,\n",
       "        5.78430576e+00,  5.78538423e+00,  5.78645731e+00,  5.78752503e+00,\n",
       "        5.78858740e+00,  5.78964446e+00,  5.79069624e+00,  5.79174276e+00,\n",
       "        5.79278405e+00,  5.79382013e+00,  5.79485103e+00,  5.79587677e+00,\n",
       "        5.79689739e+00,  5.79791290e+00,  5.79892334e+00,  5.79992872e+00,\n",
       "        5.80092908e+00,  5.80192443e+00])"
      ]
     },
     "execution_count": 10,
     "metadata": {},
     "output_type": "execute_result"
    }
   ],
   "source": [
    "result[0.01]['path']"
   ]
  },
  {
   "cell_type": "markdown",
   "metadata": {
    "deletable": false,
    "editable": false,
    "nbgrader": {
     "cell_type": "markdown",
     "checksum": "664cf0e9e9a78fbf44aa9658675ddf0e",
     "grade": false,
     "grade_id": "cell-c8d981a952139e04",
     "locked": true,
     "schema_version": 3,
     "solution": false,
     "task": false
    }
   },
   "source": [
    "5. The below code plots the results of the procedure which you have written. Inspect the plots and answer the below questions."
   ]
  },
  {
   "cell_type": "code",
   "execution_count": 11,
   "metadata": {
    "scrolled": false
   },
   "outputs": [
    {
     "data": {
      "image/png": "[encoded data removed]",
      "text/plain": [
       "<Figure size 432x288 with 1 Axes>"
      ]
     },
     "metadata": {
      "needs_background": "light"
     },
     "output_type": "display_data"
    },
    {
     "data": {
      "image/png": "[encoded data removed]",
      "text/plain": [
       "<Figure size 432x288 with 1 Axes>"
      ]
     },
     "metadata": {
      "needs_background": "light"
     },
     "output_type": "display_data"
    },
    {
     "data": {
      "image/png": "[encoded data removed]",
      "text/plain": [
       "<Figure size 432x288 with 1 Axes>"
      ]
     },
     "metadata": {
      "needs_background": "light"
     },
     "output_type": "display_data"
    },
    {
     "data": {
      "image/png": "[encoded data removed]",
      "text/plain": [
       "<Figure size 432x288 with 1 Axes>"
      ]
     },
     "metadata": {
      "needs_background": "light"
     },
     "output_type": "display_data"
    },
    {
     "data": {
      "image/png": "[encoded data removed]",
      "text/plain": [
       "<Figure size 432x288 with 1 Axes>"
      ]
     },
     "metadata": {
      "needs_background": "light"
     },
     "output_type": "display_data"
    },
    {
     "data": {
      "image/png": "[encoded data removed]",
      "text/plain": [
       "<Figure size 432x288 with 1 Axes>"
      ]
     },
     "metadata": {
      "needs_background": "light"
     },
     "output_type": "display_data"
    },
    {
     "name": "stderr",
     "output_type": "stream",
     "text": [
      "C:\\Users\\tsmar\\Anaconda3\\lib\\site-packages\\ipykernel_launcher.py:12: RuntimeWarning: overflow encountered in square\n",
      "  if sys.path[0] == '':\n",
      "C:\\Users\\tsmar\\Anaconda3\\lib\\site-packages\\matplotlib\\ticker.py:2036: RuntimeWarning: overflow encountered in multiply\n",
      "  steps = self._extended_steps * scale\n"
     ]
    },
    {
     "data": {
      "image/png": "[encoded data removed]",
      "text/plain": [
       "<Figure size 432x288 with 1 Axes>"
      ]
     },
     "metadata": {
      "needs_background": "light"
     },
     "output_type": "display_data"
    }
   ],
   "source": [
    "X = np.linspace(-30.0, 30, 200)\n",
    "y = function(X)\n",
    "\n",
    "for alpha in alphas:\n",
    "    plt.plot(X, y)\n",
    "    plt.plot(result[alpha]['path'], function(result[alpha]['path']), color=\"red\")\n",
    "    plt.show()"
   ]
  },
  {
   "cell_type": "markdown",
   "metadata": {
    "deletable": false,
    "editable": false,
    "nbgrader": {
     "cell_type": "markdown",
     "checksum": "7cd792ed394c779231cf2853b6cab81b",
     "grade": false,
     "grade_id": "cell-7eb3cdf38f32df4dfdfdc6ff",
     "locked": true,
     "schema_version": 3,
     "solution": false,
     "task": false
    }
   },
   "source": [
    "6. Comment on what you observe:\n",
    "\n",
    "How does the value of $\\alpha$ affect the path followed and steps taken? \n",
    "\n",
    "How does the slope of the function interact with the learning rate? I.e. if we had a function that was a \"shallower\" quadratic function than above or \"steeper\", is our maximally convergent $\\alpha$ larger or smaller than what we have for this function?"
   ]
  },
  {
   "cell_type": "markdown",
   "metadata": {
    "deletable": false,
    "nbgrader": {
     "cell_type": "markdown",
     "checksum": "1c426794ad9b07bda61f5c69522e74f1",
     "grade": true,
     "grade_id": "cell-ffb780a3cbaf207b",
     "locked": false,
     "points": 4,
     "schema_version": 3,
     "solution": true,
     "task": false
    }
   },
   "source": [
    "with an alpha too close to zero (around $.0001$) we take tiny steps so even over $1000$ iterations we don't make too much progress.\n",
    "\n",
    "With alpha alot higher we end up jumping back and forth from side to side of the convex curve. \n",
    "\n",
    "The slope of the function modifies the learning rate; when we are at a steeper slope we take a bigger step with a fixed learning rate\n",
    "\n",
    "when we reach a low gradient (close to a local minima) then we take a smaller step with a fixed learning rate. "
   ]
  },
  {
   "cell_type": "markdown",
   "metadata": {
    "deletable": false,
    "editable": false,
    "nbgrader": {
     "cell_type": "markdown",
     "checksum": "dfe0a453659310ae470dac2cbad26cc4",
     "grade": false,
     "grade_id": "cell-6de5c713d0bd8811",
     "locked": true,
     "schema_version": 3,
     "solution": false,
     "task": false
    }
   },
   "source": [
    "## Part Three: Support-Vector Machine Coding Exercise \n",
    "\n",
    "In this part we will perform multi-class classification with SVM to classify images of clothing from [Fashion MNIST](https://github.com/zalandoresearch/fashion-mnist).\n",
    "\n",
    "The whole point of this dataset is to be a drop-in replacement for MNIST. All the images are 28x28 pixels and there are 10 classes (see the below code). There are 60000 training images and 10000 testing images. However, it is in general much harder than MNIST. \n",
    "\n",
    "To manage the runtime complexity of using this dataset, we will only use 2000 training images, and 10k testing images.\n",
    "\n",
    "If you go to the link above, and scroll to the bottom of the GitHub page, you will find a listing of models with reported accuracies. There are some pretty powerful neural networks which only achieve accuracies in the low 90%. There are reported models that use SVM at about ~88%. Because we are going to \"compete\" with these metrics, we will only use accuracy as a score here. \n",
    "\n",
    "The below code downloads and performs feature extraction on the images using DAISY features, which are similar to SIFT features. It's not too important that you understand exactly what they are, but do know that **it will take a couple minutes to perform this process.**"
   ]
  },
  {
   "cell_type": "markdown",
   "metadata": {
    "deletable": false,
    "editable": false,
    "nbgrader": {
     "cell_type": "markdown",
     "checksum": "50c92932e21c983caab6ae76cac0f0c5",
     "grade": false,
     "grade_id": "cell-623538454adaecc5",
     "locked": true,
     "schema_version": 3,
     "solution": false,
     "task": false
    }
   },
   "source": [
    "### About the SIFT-like Features (DAISY Features)\n",
    "\n",
    "Just like how we used Haar features before, we need to create some features to classify the images. Using the raw pixel values like before is going to perform rather poorly. Instead we will use computed features called [DAISY](https://www.epfl.ch/labs/cvlab/software/descriptors-and-keypoints/daisy/) features."
   ]
  },
  {
   "cell_type": "code",
   "execution_count": 1,
   "metadata": {
    "deletable": false,
    "editable": false,
    "nbgrader": {
     "cell_type": "code",
     "checksum": "2c2a61d34256a3a877aa369ef22144e2",
     "grade": false,
     "grade_id": "cell-63f6d27755c8b3ad",
     "locked": true,
     "schema_version": 3,
     "solution": false,
     "task": false
    }
   },
   "outputs": [
    {
     "name": "stderr",
     "output_type": "stream",
     "text": [
      "[MNIST] Downloading http://fashion-mnist.s3-website.eu-central-1.amazonaws.com/train-images-idx3-ubyte.gz\n",
      "[MNIST] Downloading http://fashion-mnist.s3-website.eu-central-1.amazonaws.com/t10k-images-idx3-ubyte.gz\n",
      "[MNIST] Downloading http://fashion-mnist.s3-website.eu-central-1.amazonaws.com/train-labels-idx1-ubyte.gz\n",
      "[MNIST] Downloading http://fashion-mnist.s3-website.eu-central-1.amazonaws.com/t10k-labels-idx1-ubyte.gz\n"
     ]
    },
    {
     "name": "stdout",
     "output_type": "stream",
     "text": [
      "Extracting features this may take a couple minutes...\n",
      "Done. 6177.43 msec\n",
      "Extracting features this may take a couple minutes...\n",
      "Done. 27045.79 msec\n"
     ]
    }
   ],
   "source": [
    "from mnist import get_fashion_mnist\n",
    "from sklearn.model_selection import train_test_split\n",
    "import os \n",
    "import matplotlib.pyplot as plt\n",
    "import time\n",
    "import numpy as np\n",
    "import cv2\n",
    "import skimage\n",
    "from skimage.feature import daisy\n",
    "from sklearn import preprocessing\n",
    "\n",
    "def extract_features(images, visualize_first=False):\n",
    "    feature_size=792\n",
    "    features = np.zeros((images.shape[0], feature_size))\n",
    "    print(\"Extracting features this may take a couple minutes...\")\n",
    "    start = time.time()\n",
    "    for idx, img in enumerate(images):\n",
    "        visualize = False\n",
    "        if(idx == 0 and visualize_first == True):\n",
    "            visualize=True\n",
    "        descs = daisy(images[idx].astype(np.uint8), step=4, radius=8, rings=2,histograms=5,\n",
    "                             visualize=visualize)\n",
    "        if(visualize):\n",
    "            plt.imshow(descs[1])\n",
    "            plt.show()\n",
    "            descs = descs[0]\n",
    "        features[idx, :] = descs.reshape(-1)\n",
    "    end = time.time()\n",
    "    print(\"Done. {:.2f} msec\".format((end-start)*1000))\n",
    "    features = preprocessing.scale(features)\n",
    "    return features\n",
    "\n",
    "\n",
    "def get_fashion_dataset(subset_train=2000, subset_test=10000):\n",
    "    x_train,y_train,x_test,y_test = get_fashion_mnist('./')\n",
    "    x_train,_,y_train,_ = train_test_split(x_train,y_train, train_size=subset_train, \n",
    "                                           stratify=y_train, random_state=42, shuffle=True)\n",
    "    x_test = x_test[:subset_test]\n",
    "    y_test = y_test[:subset_test]\n",
    "    dataset = {\n",
    "        'train': {\n",
    "            'images': x_train,\n",
    "            'labels': y_train,\n",
    "            'features': extract_features(x_train)\n",
    "        },\n",
    "        'test': {\n",
    "            'images': x_test,\n",
    "            'labels': y_test,\n",
    "            'features': extract_features(x_test)\n",
    "        }\n",
    "    }\n",
    "    return dataset\n",
    "\n",
    "def get_label_txt(labels):\n",
    "    '''\n",
    "    labels must be a 1-d integer np.array or an integer label.\n",
    "    will return the string for that label\n",
    "    '''\n",
    "    strings = np.array([\n",
    "            \"t-short/top\",\"trouser\",\"pullover\",\"dress\",\"coat\",\"sandal\",\"shirt\",\"sneaker\",\"bag\",\n",
    "            \"ankle boot\"\n",
    "    ])\n",
    "    return strings[labels]\n",
    "\n",
    "\n",
    "dataset = get_fashion_dataset()"
   ]
  },
  {
   "cell_type": "code",
   "execution_count": 12,
   "metadata": {},
   "outputs": [],
   "source": [
    "def plot_image(image, label):\n",
    "    plt.figure()\n",
    "    plt.imshow(image, cmap='gray')\n",
    "    label_text = get_label_txt(label)\n",
    "    plt.title(label_text)\n",
    "    plt.show()"
   ]
  },
  {
   "cell_type": "code",
   "execution_count": 13,
   "metadata": {},
   "outputs": [
    {
     "data": {
      "image/png": "[encoded data removed]",
      "text/plain": [
       "<Figure size 432x288 with 1 Axes>"
      ]
     },
     "metadata": {
      "needs_background": "light"
     },
     "output_type": "display_data"
    },
    {
     "name": "stdout",
     "output_type": "stream",
     "text": [
      "(2000, 792) (10000, 792)\n"
     ]
    }
   ],
   "source": [
    "# you should see a picture of a piece of clothing and the clothing label in the title.\n",
    "img = dataset[\"train\"][\"images\"][0]\n",
    "label = dataset[\"train\"][\"labels\"][0]\n",
    "plot_image(img, label)\n",
    "\n",
    "### Feel free to edit this code to familiarize yourself with the dataset.\n",
    "print(dataset[\"train\"][\"features\"].shape, dataset[\"test\"][\"features\"].shape)"
   ]
  },
  {
   "cell_type": "markdown",
   "metadata": {
    "deletable": false,
    "editable": false,
    "nbgrader": {
     "cell_type": "markdown",
     "checksum": "960abbe252827c342e4cf70737ba8835",
     "grade": false,
     "grade_id": "cell-c84019a427ec0131",
     "locked": true,
     "schema_version": 3,
     "solution": false,
     "task": false
    }
   },
   "source": [
    "### Q1: Build and Evaluate a SVM Model\n",
    "\n",
    "Previously, we've been using a functional approach to construct models. However, `scikit-learn` does this itself and has enough helper functions so that you can build and test a model in only a couple lines of code. \n",
    "\n",
    "We're now going to use these functions to efficiently:\n",
    "\n",
    "1. Build a SVC model.\n",
    "2. Perform cross validation with **5 splits** and report the **accuracy** (averaged accross folds) (this is the default metric reported) for the model using `cross_val_score`.\n",
    "\n",
    "For the SVC model, you can repeat this process to try different kernels and observe how things change. We've created an initial model below. However when you submit, the below cell should only contain 2-3 lines of code. A line that does (1) and a line that does (2) and maybe some print statements.\n",
    "\n",
    "Cross validation is an extremely expensive process. Be sure to set `n_jobs=-1` in the `cross_val_score` function.\n",
    "\n",
    "**This is an expensive procdure, it can take several minutes.**"
   ]
  },
  {
   "cell_type": "code",
   "execution_count": 18,
   "metadata": {
    "deletable": false,
    "nbgrader": {
     "cell_type": "code",
     "checksum": "43ec45efad554dcaaf9bab1fe8aab9c5",
     "grade": true,
     "grade_id": "cell-105b3859c73bfebc",
     "locked": false,
     "points": 4,
     "schema_version": 3,
     "solution": true,
     "task": false
    }
   },
   "outputs": [
    {
     "name": "stdout",
     "output_type": "stream",
     "text": [
      "accuracy: 0.822000\n"
     ]
    }
   ],
   "source": [
    "from sklearn.model_selection import cross_val_score\n",
    "from sklearn.svm import SVC\n",
    "\n",
    "# Here's an initial model you can start with\n",
    "# model = SVC(kernel='rbf', gamma=0.00001, C=1)\n",
    "model = SVC(kernel='rbf', C=1.0, gamma='scale')\n",
    "\n",
    "# YOUR CODE HERE\n",
    "scores = np.mean(cross_val_score(model, X=dataset[\"train\"][\"features\"], y=dataset[\"train\"][\"labels\"], n_jobs=-1, cv=5))\n",
    "\n",
    "print(\"accuracy: %f\" % scores)"
   ]
  },
  {
   "cell_type": "markdown",
   "metadata": {
    "deletable": false,
    "editable": false,
    "nbgrader": {
     "cell_type": "markdown",
     "checksum": "67e5581721091cb4a0f992159a48be78",
     "grade": false,
     "grade_id": "cell-1d917c5edd506c75",
     "locked": true,
     "schema_version": 3,
     "solution": false,
     "task": false
    }
   },
   "source": [
    "### Q2: Cross Validation Grid Search (4 pts)\n",
    "\n",
    "Now we will perform cross validation to select the $C$ and $\\gamma$ paramters for the `rbf` kernel.\n",
    "\n",
    "This should follow what we demonstrated during the hands-on. You should use the Scikit-learn `GridSearchCV` method to perform cross validation. You can use `cv=5` for the number of folds.\n",
    "\n",
    "For a large dataset, this can be an expensive procedure. \n",
    "\n",
    "**First write your solution, only passing in small subset (~100) of the trainin data to your GridSearchCV call. Once you have it working, time it and estimate how long it will take for the full training dataset before executing.**\n",
    "\n",
    "We have two parameters we need to select: $\\gamma$, which is the parameter for the RBF kernel, and the $C$ paramter, which controls the slack penalty. (Refer to the hands on if you forgot about these.)\n",
    "\n",
    "Make sure to read the [docs]() on `GridSearchCV`. Many parameters are useful, such as `n_jobs`. We recommend setting it to `-1` to use all cores on your CPU.\n",
    "\n",
    "You can use the below to methods to plot the grid returned by the `GridSearchCV` method."
   ]
  },
  {
   "cell_type": "code",
   "execution_count": 19,
   "metadata": {
    "deletable": false,
    "editable": false,
    "nbgrader": {
     "cell_type": "code",
     "checksum": "895011a735e77961bab5cd00c26bbfed",
     "grade": false,
     "grade_id": "cell-7eb3c38f32df4dfdfdc6ff",
     "locked": true,
     "schema_version": 3,
     "solution": false,
     "task": false
    }
   },
   "outputs": [],
   "source": [
    "class MidpointNormalize(plt.Normalize):\n",
    "\n",
    "    def __init__(self, vmin=None, vmax=None, midpoint=None, clip=False):\n",
    "        self.midpoint = midpoint\n",
    "        super(MidpointNormalize,self).__init__(vmin, vmax, clip)\n",
    "\n",
    "    def __call__(self, value, clip=None):\n",
    "        x, y = [self.vmin, self.midpoint, self.vmax], [0, 0.5, 1]\n",
    "        return np.ma.masked_array(np.interp(value, x, y))\n",
    "def plotSearchGrid(grid):\n",
    "    \n",
    "    scores = [x for x in grid.cv_results_[\"mean_test_score\"]]\n",
    "    scores = np.array(scores).reshape(len(grid.param_grid[\"C\"]), len(grid.param_grid[\"gamma\"]))\n",
    "\n",
    "    plt.figure(figsize=(10, 8))\n",
    "    plt.subplots_adjust(left=.2, right=0.95, bottom=0.15, top=0.95)\n",
    "    plt.imshow(scores, interpolation='nearest', cmap=plt.cm.hot,\n",
    "               norm=MidpointNormalize(vmin=0.2, midpoint=0.92))\n",
    "    plt.xlabel('gamma')\n",
    "    plt.ylabel('C')\n",
    "    plt.colorbar()\n",
    "    plt.xticks(np.arange(len(grid.param_grid[\"gamma\"])), grid.param_grid[\"gamma\"], rotation=45)\n",
    "    plt.yticks(np.arange(len(grid.param_grid[\"C\"])), grid.param_grid[\"C\"])\n",
    "    plt.title('Validation accuracy')\n",
    "    plt.show()"
   ]
  },
  {
   "cell_type": "code",
   "execution_count": 22,
   "metadata": {
    "deletable": false,
    "nbgrader": {
     "cell_type": "code",
     "checksum": "52267cd2a24be03aabc8e858ce9ad187",
     "grade": true,
     "grade_id": "cell-6cd3e483f0b9f005",
     "locked": false,
     "points": 4,
     "schema_version": 3,
     "solution": true,
     "task": false
    }
   },
   "outputs": [
    {
     "data": {
      "image/png": "[encoded data removed]",
      "text/plain": [
       "<Figure size 720x576 with 2 Axes>"
      ]
     },
     "metadata": {
      "needs_background": "light"
     },
     "output_type": "display_data"
    }
   ],
   "source": [
    "from sklearn.model_selection import cross_val_score, GridSearchCV\n",
    "\n",
    "# Use the following values for your C and gamma values in your grid search.\n",
    "c_range = np.logspace(-5, 4, 5, base=10)\n",
    "g_range = np.logspace(-5, 0, 5, base=10)\n",
    "param_grid = {\n",
    "    'gamma': g_range,\n",
    "    'C': c_range\n",
    "}\n",
    "# YOUR CODE HERE\n",
    "clf = GridSearchCV(model, param_grid=param_grid,cv=5, n_jobs=-1)\n",
    "clf.fit(dataset[\"train\"][\"features\"], dataset[\"train\"][\"labels\"])\n",
    "plotSearchGrid(clf)"
   ]
  },
  {
   "cell_type": "markdown",
   "metadata": {
    "deletable": false,
    "editable": false,
    "nbgrader": {
     "cell_type": "markdown",
     "checksum": "7639fbecb1aa4913536bf7ed7ce770d6",
     "grade": false,
     "grade_id": "cell-f11140f5dc0ae5f5",
     "locked": true,
     "schema_version": 3,
     "solution": false,
     "task": false
    }
   },
   "source": [
    "### Q3: Final Model (3pt)\n",
    "\n",
    "The `GridSearchCV` method automatically returns the best model,traubed on the full training set with the best paramaters in the grid. It can  be accessed using `grid._best_estimator_`.\n",
    "\n",
    "Take the best model and predict on the test set, and report your accuracy and confusion matrix, and print out the best parameters."
   ]
  },
  {
   "cell_type": "code",
   "execution_count": 24,
   "metadata": {
    "deletable": false,
    "nbgrader": {
     "cell_type": "code",
     "checksum": "2a1e4424b555ab0ad47b3ed4c422e0d6",
     "grade": true,
     "grade_id": "cell-3e8bb3dda302b328",
     "locked": false,
     "points": 3,
     "schema_version": 3,
     "solution": true,
     "task": false
    }
   },
   "outputs": [
    {
     "name": "stdout",
     "output_type": "stream",
     "text": [
      "accuracy 0.843900\n",
      "[[781   0  30  43   8   1 120   0  17   0]\n",
      " [  3 952   5  33   2   0   3   0   2   0]\n",
      " [ 26   1 728   9 118   0 112   0   6   0]\n",
      " [ 33  11  19 840  39   0  51   0   7   0]\n",
      " [  2   4  64  33 815   0  80   0   2   0]\n",
      " [  0   0   0   0   0 945   1  38   1  15]\n",
      " [134   2  82  43 145   0 580   0  14   0]\n",
      " [  0   0   0   0   0  38   0 929   0  33]\n",
      " [  7   1   6   4   9   4  14   4 951   0]\n",
      " [  0   0   0   0   0  24   0  57   1 918]]\n",
      "SVC(C=56.23413251903491, cache_size=200, class_weight=None, coef0=0.0,\n",
      "    decision_function_shape='ovr', degree=3, gamma=0.00017782794100389227,\n",
      "    kernel='rbf', max_iter=-1, probability=False, random_state=None,\n",
      "    shrinking=True, tol=0.001, verbose=False)\n"
     ]
    }
   ],
   "source": [
    "from sklearn.metrics import confusion_matrix\n",
    "from sklearn.metrics import accuracy_score\n",
    "\n",
    "# YOUR CODE HERE\n",
    "yh = clf.predict(dataset[\"test\"][\"features\"])\n",
    "ytrue = dataset[\"test\"][\"labels\"]\n",
    "\n",
    "a = accuracy_score(ytrue, yh)\n",
    "cmat = confusion_matrix(ytrue, yh)\n",
    "\n",
    "print(\"accuracy %f\" % a)\n",
    "print(cmat)\n",
    "print(clf.best_estimator_)"
   ]
  },
  {
   "cell_type": "markdown",
   "metadata": {
    "deletable": false,
    "editable": false,
    "nbgrader": {
     "cell_type": "markdown",
     "checksum": "bec74bd080520ab016a3b4f627b8906c",
     "grade": false,
     "grade_id": "cell-0cfd38d5499ca2f7",
     "locked": true,
     "schema_version": 3,
     "solution": false,
     "task": false
    }
   },
   "source": [
    "## Extra Credit (4 pts)\n",
    "\n",
    "Gradient descent is a very simple algorithm conceptually:\n",
    "\n",
    "Given a differentiable function which we would like to minimize, $f: \\mathbb{R}^d \\rightarrow \\mathbb{R}$, and a starting point, $x_k \\in \\mathbb{R}^d$, we iteratively \"step\" in the opposite direction of the gradient evaluated at that point, $\\nabla f(x_k) \\in \\mathbb{R}^d$, with a step size $\\alpha > 0$ until we have converged to a local minimum:\n",
    "\n",
    "$$x_{k+1} = x_k - \\alpha \\nabla f(x_k)$$\n",
    "\n",
    "How can we prove that $-\\nabla f$ is the \"best\" direction to step? Well, it is the best if it is the \"steepest\" descent, AKA the direction of maximum decrease, relative to all other direction vectors of the same length. To prove this, we will assume that the following statement (which can be made more formal based on the smoothness of $f$ and Taylor's theorem):\n",
    "\n",
    "$$ f(x+ \\alpha p) = f(x) +  \\alpha \\nabla f(x)^T p + \\epsilon(x_k) \\quad \\quad |\\epsilon(x_k)| << |f(x)^Tp | $$\n",
    "\n",
    "In the above equation, $p$ determines the direction of the step. Using this assumption, argue that \n",
    "\n",
    "$$ \\min_{p} p^T \\nabla f(x_k) \\quad \\text{subject to} \\,\\, \\|p\\| =1 $$  \n",
    "\n",
    "is a reasonable criteron for selecting the best direction and show that \n",
    "\n",
    "$$\\frac{-\\nabla f(x_k)}{\\|f(x_k)\\|}$$\n",
    "\n",
    "is the solution to this criteron.\n",
    "\n"
   ]
  },
  {
   "cell_type": "markdown",
   "metadata": {
    "deletable": false,
    "nbgrader": {
     "cell_type": "markdown",
     "checksum": "81d204710d944b155e2add4f187983fa",
     "grade": true,
     "grade_id": "cell-d89f20c5fe15cc6f",
     "locked": false,
     "points": 0,
     "schema_version": 3,
     "solution": true,
     "task": false
    }
   },
   "source": [
    "The direction of the negative gradient will be the steepest step downhill that we can take, so if we are subject to having a p that determines the direction with ||p|| == 1 then it makes sense to normalize the gradient vector, multiply by negative one, and this is the best solution. "
   ]
  },
  {
   "cell_type": "code",
   "execution_count": null,
   "metadata": {},
   "outputs": [],
   "source": []
  }
 ],
 "metadata": {
  "kernelspec": {
   "display_name": "Python 3",
   "language": "python",
   "name": "python3"
  },
  "language_info": {
   "codemirror_mode": {
    "name": "ipython",
    "version": 3
   },
   "file_extension": ".py",
   "mimetype": "text/x-python",
   "name": "python",
   "nbconvert_exporter": "python",
   "pygments_lexer": "ipython3",
   "version": "3.6.9"
  }
 },
 "nbformat": 4,
 "nbformat_minor": 2
}
